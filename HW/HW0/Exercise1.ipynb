{
 "cells": [
  {
   "cell_type": "markdown",
   "metadata": {
    "id": "VPezz3cVuTg0"
   },
   "source": [
    "*portions of this notebook were adapted from [Mark Krumholz's public course notes](https://sites.google.com/a/ucsc.edu/krumholz/teaching-and-courses/)*"
   ]
  },
  {
   "cell_type": "markdown",
   "metadata": {
    "id": "ubs5PK9muTg1"
   },
   "source": [
    "# Lab 1 -  First Steps in Python\n",
    "\n",
    "## Lab 1 Contents\n",
    "\n",
    "1. Jupyter\n",
    "   * Jupyter Intro\n",
    "   * Jupyter cautions\n",
    "2. Using Jupyter as a calculator\n",
    "3. Variables\n",
    "4. Arrays\n",
    "    * Defining arrays\n",
    "    * Array manipulation\n",
    "    * Multidimensional arrays\n",
    "    * Array attributes\n",
    "   \n",
    "***Each section 1-4 of this notebook contains an exercise that you must complete.***\n",
    "\n",
    "## 1. Jupyter\n",
    "\n",
    "### 1.1 Jupyter Intro\n",
    "\n",
    "Jupyter notebooks have two kinds of cells. Markdown cells like this one have no labeling to the left of the cell, and, when executed, appear as ordinary text. Code cells like the one below have In [ ]: printed to the side of them and, when executed, a number appears inside of the brackets. To execute a cell of either type in Jupyter, hit shift + enter inside of that cell. Try it by double clicking on this cell and hitting shift + enter, and then do the same with the code cell below. Note that a markdown cell becomes pure text when you execute it, while a code cell spits out some output labelled Out [ ]:.\n"
   ]
  },
  {
   "cell_type": "code",
   "execution_count": 1,
   "metadata": {
    "id": "kqH06hy3uTg2",
    "outputId": "d0ea2271-c85c-4832-de20-407d34cf0980"
   },
   "outputs": [
    {
     "data": {
      "text/plain": [
       "3"
      ]
     },
     "execution_count": 1,
     "metadata": {},
     "output_type": "execute_result"
    }
   ],
   "source": [
    "1+2"
   ]
  },
  {
   "cell_type": "markdown",
   "metadata": {
    "id": "Bt76-LOLuTg6"
   },
   "source": [
    "The guts of Jupyter is the coding language Python, and any and all Python syntax will work inside of code cells. However, Jupyter code cells also have some extra capabilities, which we will talk about as needed in the future.\n",
    "\n",
    "A key feature of Jupyter is that it integrates markdown (instructions/notes), code ***and*** output all in the same document. For this reason, many astronomers, including myself, use Jupyter as a sort of lab notebook rather than maintaining lab notes, code, and code output all in separate documents.\n",
    "\n",
    "### 1.2 Jupyter Cautions\n",
    "\n",
    "You should always keep in mind that ***cells within a Jupyter notebook can be executed and reexecuted in any order*** as this can sometimes get you into trouble. This feature is the reason why an executed code cell is numbered, so that you know what order the cells you see have been executed in. Note that this does not have to be linear from the top to the bottom of the document, but can jump around within it. Often, you will note a mistake or something that you want to try and will go back and change the code in an earlier cell. If you reexecute just this one cell, then any already executed cells that rely on variables defined in the reexecuted cell or its output will ***not*** be automatically updated.  \n",
    "\n",
    "For the purposes of this class, labs and homeworks should always be executable in a linear fashion, as you will be clearing all output before submitting them. For this reason, you should observe the following \"best practices\" for coding in notebooks.\n",
    "\n",
    "1. Use descriptive variable labels (e.g. lum_stara = , mass_starb =) and create a new variable name each time you do a calculation. ***Do not reuse variable names*** or you risk getting a nonsense answer when you refer to that variable.\n",
    "\n",
    "2. Before handing in any lab or homework, restart the notebook and execute the whole thing from start to finish once, making sure that all of your code output is how you want it. Note that **restarting the kernel will clear the code output, not the code itself**, so you will not be losing your work.\n",
    "\n",
    "3. If you note a mistake in an earlier cell and go back to correct it, you should be careful to also reexecute any cells that depend on it. If you want to do a calculation similar to one that you executed in a previous cell, you should instead copy the contents of that cell into a new cell, rename the variables, and execute it again.\n"
   ]
  },
  {
   "cell_type": "markdown",
   "metadata": {
    "id": "qrQEcV9ouTg7"
   },
   "source": [
    "<div class=hw>\n",
    "\n",
    "### Exercise 1\n",
    "-------------\n",
    "\n",
    "Many common operations also have keyboard shortcuts. To see a full list of them, click the search button (third option) on the bar to the far left and scroll through the commands."
   ]
  },
  {
   "cell_type": "markdown",
   "metadata": {
    "id": "Mp7tv6RDuTg8"
   },
   "source": [
    "a. Change this cell to a markdown cell"
   ]
  },
  {
   "cell_type": "code",
   "execution_count": null,
   "metadata": {},
   "outputs": [],
   "source": []
  },
  {
   "cell_type": "markdown",
   "metadata": {
    "id": "Qd02RRmPuTg_"
   },
   "source": [
    "<div class=hw>\n",
    "b. Insert a blank code cell above this one, and one below as well."
   ]
  },
  {
   "cell_type": "code",
   "execution_count": null,
   "metadata": {},
   "outputs": [],
   "source": []
  },
  {
   "cell_type": "markdown",
   "metadata": {
    "id": "CGzbwxzpuThA"
   },
   "source": [
    "<div class=hw>\n",
    "c. Split the cell below in between the two operations so that each appears in its own separate cell, and then execute both cells."
   ]
  },
  {
   "cell_type": "code",
   "execution_count": 2,
   "metadata": {
    "id": "EDf-LUUouThA"
   },
   "outputs": [
    {
     "data": {
      "text/plain": [
       "3"
      ]
     },
     "execution_count": 2,
     "metadata": {},
     "output_type": "execute_result"
    }
   ],
   "source": [
    "1+2"
   ]
  },
  {
   "cell_type": "code",
   "execution_count": 3,
   "metadata": {},
   "outputs": [
    {
     "data": {
      "text/plain": [
       "4"
      ]
     },
     "execution_count": 3,
     "metadata": {},
     "output_type": "execute_result"
    }
   ],
   "source": [
    "1+3"
   ]
  },
  {
   "cell_type": "markdown",
   "metadata": {
    "id": "TNfhjq6XuThD"
   },
   "source": [
    "<div class=hw>\n",
    "d. Delete the cell below"
   ]
  },
  {
   "cell_type": "markdown",
   "metadata": {
    "id": "ByvkqtntyE4M"
   },
   "source": [
    "I've also posted on Moodle a cheat sheet for syntax within markdown cells, which can be accessed __[here](https://github.com/adam-p/markdown-here/wiki/Markdown-Cheatsheet)__. Use this to complete the following tasks."
   ]
  },
  {
   "cell_type": "markdown",
   "metadata": {
    "id": "DSc_JHdFuThE"
   },
   "source": [
    "e. *Make this text italic.*\n",
    "\n",
    "f. **Make this text bold.**\n",
    "\n",
    "g. ***Make this text bold and italic.***\n",
    "\n",
    "h. # Make this a heading.\n",
    "\n",
    "i. [Make this a hyperlink to your favorite webpage.](https://open.spotify.com/intl-ja/artist/4UK2Lzi6fBfUi9rpDt6cik?si=1XNGGry3RyGDQuqnanY6Bg)\n",
    "\n",
    "j. Insert a picture of your favorite astronomical object inline here.\n",
    "![alt text](https://www.cfa.harvard.edu/sites/default/files/styles/max_650x650/public/2019-04/GalaxyClusters_2.jpg?itok=Plqik-eY)\n",
    "\n",
    "k. Insert the file logo.png from the Google Drive Homework00 folder inline here\n",
    "![alt text](Logo.png)\n",
    "\n",
    "l. Make the asterisks in the following sentence visible: I \\*love\\* astronomy\n"
   ]
  },
  {
   "cell_type": "markdown",
   "metadata": {
    "id": "11bt9lkzuThE"
   },
   "source": [
    "There are obviously lots of other things that you can do, but these are the basics that you'll use the most often.\n",
    "\n",
    "## 2. Using jupyter as a calculator\n",
    "\n",
    "In Jupyter notebooks, every cell is a command prompt into which we can enter python commands. One very basic way to use python is as a calculator.\n",
    "\n",
    "Python knows the basic arithmetic operations plus (+), minus (-), times (\\*), divide (/), and raise to a power (\\**).\n",
    "\n",
    "*Sidenote*\n",
    "Note that if you double click on this cell, you'll see that I've inserted a BACKSLASH (\\) before the asterisks. That is because the asterisk has special meaning inside of a markdown cell. Single asterisks make an item *italicized* when you execute the cell, and double asterisks make it **bold**. This is ***NOT*** the case for code cells.  \n",
    "\n",
    "Execute all of the cells below and make sure that you understand what they're doing before moving on."
   ]
  },
  {
   "cell_type": "code",
   "execution_count": 4,
   "metadata": {
    "id": "HkDr-CyiuThF"
   },
   "outputs": [
    {
     "data": {
      "text/plain": [
       "5"
      ]
     },
     "execution_count": 4,
     "metadata": {},
     "output_type": "execute_result"
    }
   ],
   "source": [
    "2+3"
   ]
  },
  {
   "cell_type": "code",
   "execution_count": 5,
   "metadata": {
    "id": "cmlNnH4suThH"
   },
   "outputs": [
    {
     "data": {
      "text/plain": [
       "6"
      ]
     },
     "execution_count": 5,
     "metadata": {},
     "output_type": "execute_result"
    }
   ],
   "source": [
    "2*3"
   ]
  },
  {
   "cell_type": "code",
   "execution_count": 6,
   "metadata": {
    "id": "HQ01yOnCuThK"
   },
   "outputs": [
    {
     "data": {
      "text/plain": [
       "-1"
      ]
     },
     "execution_count": 6,
     "metadata": {},
     "output_type": "execute_result"
    }
   ],
   "source": [
    "2-3"
   ]
  },
  {
   "cell_type": "code",
   "execution_count": 7,
   "metadata": {
    "id": "yUAWzRifuThM"
   },
   "outputs": [
    {
     "data": {
      "text/plain": [
       "0.6666666666666666"
      ]
     },
     "execution_count": 7,
     "metadata": {},
     "output_type": "execute_result"
    }
   ],
   "source": [
    "2/3"
   ]
  },
  {
   "cell_type": "code",
   "execution_count": 8,
   "metadata": {
    "id": "kzmAi1uKuThP"
   },
   "outputs": [
    {
     "data": {
      "text/plain": [
       "8"
      ]
     },
     "execution_count": 8,
     "metadata": {},
     "output_type": "execute_result"
    }
   ],
   "source": [
    "2**3"
   ]
  },
  {
   "cell_type": "markdown",
   "metadata": {
    "id": "e2QtFq_uuThR"
   },
   "source": [
    "It also understands parentheses, and follows the normal rules for order of operations:"
   ]
  },
  {
   "cell_type": "code",
   "execution_count": 9,
   "metadata": {
    "id": "7KE27HWVuThR"
   },
   "outputs": [
    {
     "data": {
      "text/plain": [
       "7"
      ]
     },
     "execution_count": 9,
     "metadata": {},
     "output_type": "execute_result"
    }
   ],
   "source": [
    "1+2*3"
   ]
  },
  {
   "cell_type": "code",
   "execution_count": 10,
   "metadata": {
    "id": "kNDaJP30uThT"
   },
   "outputs": [
    {
     "data": {
      "text/plain": [
       "9"
      ]
     },
     "execution_count": 10,
     "metadata": {},
     "output_type": "execute_result"
    }
   ],
   "source": [
    "1+2**3"
   ]
  },
  {
   "cell_type": "code",
   "execution_count": 11,
   "metadata": {
    "id": "r6mHVa59uThW"
   },
   "outputs": [
    {
     "data": {
      "text/plain": [
       "9"
      ]
     },
     "execution_count": 11,
     "metadata": {},
     "output_type": "execute_result"
    }
   ],
   "source": [
    "(1+2)*3"
   ]
  },
  {
   "cell_type": "markdown",
   "metadata": {
    "id": "swjt1GyguTha"
   },
   "source": [
    "<div class=hw>\n",
    "\n",
    "### Exercise 2\n",
    "-------------\n",
    "\n",
    "Execute the calculations shown below in python. Use the code cells below each expression.\n",
    "\n",
    "x = 2.5x10$^4$   \n",
    "y = 8.1x10$^3$\n",
    "\n",
    "a. $x+y$  "
   ]
  },
  {
   "cell_type": "code",
   "execution_count": 12,
   "metadata": {
    "id": "_ECsyMmHuTha"
   },
   "outputs": [
    {
     "data": {
      "text/plain": [
       "33100.0"
      ]
     },
     "execution_count": 12,
     "metadata": {},
     "output_type": "execute_result"
    }
   ],
   "source": [
    "x=2.5*10**4\n",
    "y=8.1*10**3\n",
    "\n",
    "x+y"
   ]
  },
  {
   "cell_type": "markdown",
   "metadata": {
    "id": "XblRscRIuThd"
   },
   "source": [
    "<div class=hw>\n",
    "b. $x^3$  "
   ]
  },
  {
   "cell_type": "code",
   "execution_count": 13,
   "metadata": {
    "id": "WfFm9NKmuThd"
   },
   "outputs": [
    {
     "data": {
      "text/plain": [
       "15625000000000.0"
      ]
     },
     "execution_count": 13,
     "metadata": {},
     "output_type": "execute_result"
    }
   ],
   "source": [
    "x**3"
   ]
  },
  {
   "cell_type": "markdown",
   "metadata": {
    "id": "iHMpIKsruThg"
   },
   "source": [
    "<div class=hw>\n",
    "c. $\\sqrt{y}$  "
   ]
  },
  {
   "cell_type": "code",
   "execution_count": 14,
   "metadata": {
    "id": "78tIGBKHuThh"
   },
   "outputs": [
    {
     "data": {
      "text/plain": [
       "90.0"
      ]
     },
     "execution_count": 14,
     "metadata": {},
     "output_type": "execute_result"
    }
   ],
   "source": [
    "y**(1/2)"
   ]
  },
  {
   "cell_type": "markdown",
   "metadata": {
    "id": "FRawHkrQuThj"
   },
   "source": [
    "<div class=hw>\n",
    "d. $\\frac{3x+y^2}{2}$"
   ]
  },
  {
   "cell_type": "code",
   "execution_count": 15,
   "metadata": {
    "id": "67ggzCFjuThk"
   },
   "outputs": [
    {
     "data": {
      "text/plain": [
       "32842500.0"
      ]
     },
     "execution_count": 15,
     "metadata": {},
     "output_type": "execute_result"
    }
   ],
   "source": [
    "(3*x+y**2)/2"
   ]
  },
  {
   "cell_type": "markdown",
   "metadata": {
    "id": "afMngzfjuThm"
   },
   "source": [
    "## 3. Simple variables\n",
    "\n",
    "We can also define variables to store numbers, and we can perform arithmetic on those variables. Variables are just names for boxes that can store values, and on which you can perform various operations. For example, execute each of the cells below and make sure you understand the output:"
   ]
  },
  {
   "cell_type": "code",
   "execution_count": 16,
   "metadata": {
    "id": "VnN-4fs4uThn"
   },
   "outputs": [],
   "source": [
    "a=4"
   ]
  },
  {
   "cell_type": "code",
   "execution_count": 17,
   "metadata": {
    "id": "T2pFhWzRuTho"
   },
   "outputs": [
    {
     "data": {
      "text/plain": [
       "5"
      ]
     },
     "execution_count": 17,
     "metadata": {},
     "output_type": "execute_result"
    }
   ],
   "source": [
    "a+1"
   ]
  },
  {
   "cell_type": "code",
   "execution_count": 18,
   "metadata": {
    "id": "7YurMLICuThq"
   },
   "outputs": [
    {
     "data": {
      "text/plain": [
       "2.0"
      ]
     },
     "execution_count": 18,
     "metadata": {},
     "output_type": "execute_result"
    }
   ],
   "source": [
    "a/2"
   ]
  },
  {
   "cell_type": "code",
   "execution_count": 19,
   "metadata": {
    "id": "TrHu0cjquTht"
   },
   "outputs": [],
   "source": [
    "a=a+1"
   ]
  },
  {
   "cell_type": "code",
   "execution_count": 20,
   "metadata": {
    "id": "jsHJ4SXuuThv"
   },
   "outputs": [
    {
     "data": {
      "text/plain": [
       "5"
      ]
     },
     "execution_count": 20,
     "metadata": {},
     "output_type": "execute_result"
    }
   ],
   "source": [
    "a"
   ]
  },
  {
   "cell_type": "code",
   "execution_count": 21,
   "metadata": {
    "id": "l44Rx6d1uThx"
   },
   "outputs": [
    {
     "data": {
      "text/plain": [
       "25"
      ]
     },
     "execution_count": 21,
     "metadata": {},
     "output_type": "execute_result"
    }
   ],
   "source": [
    "a**2"
   ]
  },
  {
   "cell_type": "markdown",
   "metadata": {
    "id": "J1O6J5wCuTh0"
   },
   "source": [
    "Note that the line a=a+1 redefined the variable as one greater than it was before. This is a simple example of how not using a new variable name could get you into trouble (if you were to assume that a was still 4). Note too that lines in which you have defined a variable do not have any output by default. If you want to check that the variable is properly assigned or see its value, you can type the variable name alone on a line below the variable assignment line."
   ]
  },
  {
   "cell_type": "code",
   "execution_count": 22,
   "metadata": {
    "id": "n8hMGo-FuTh0"
   },
   "outputs": [
    {
     "data": {
      "text/plain": [
       "100"
      ]
     },
     "execution_count": 22,
     "metadata": {},
     "output_type": "execute_result"
    }
   ],
   "source": [
    "a=10**2\n",
    "a"
   ]
  },
  {
   "cell_type": "markdown",
   "metadata": {
    "id": "YGpq9w6ruTh3"
   },
   "source": [
    "There's also a subtle but important point to notice here, which is the meaning of the equal sign. In mathematics, the statement that a = b is a statement that two things are equal, and it can be either true or false. In python, as in almost all other programming languages, a = b means something different. It means that the value of the variable a should be changed to whatever value b has. Thus the statement we made a = a + 1 is not an assertion (which is obviously false) that a is equal to itself plus one. It is an instruction to the computer to take the variable a, and 1 to it, and then store the result back into the variable a. In this example, it therefore changes the value of a from 4 to 5.\n",
    "\n",
    "One more point regrading assignments: the fact that = means something different in programming than it does in mathematics implies that the statements a = b and b = a will have very different effects. The first one causes the computer to forget whatever is stored in a and replace it by whatever is stored in b. The second statement has the opposite effect: the computer forgets what is stored in b, and replaces it by whatever is stored in a.\n",
    "\n",
    "The variable a that we have defined is an integer, or int for short. We can find this out by asking python using one of its many built-in functions, namely \"type\"."
   ]
  },
  {
   "cell_type": "code",
   "execution_count": 23,
   "metadata": {
    "id": "aNJMnFxhuTh4"
   },
   "outputs": [],
   "source": [
    "b=5"
   ]
  },
  {
   "cell_type": "code",
   "execution_count": 24,
   "metadata": {
    "id": "JPMEZRwIuTh6"
   },
   "outputs": [
    {
     "data": {
      "text/plain": [
       "int"
      ]
     },
     "execution_count": 24,
     "metadata": {},
     "output_type": "execute_result"
    }
   ],
   "source": [
    "type(b)"
   ]
  },
  {
   "cell_type": "markdown",
   "metadata": {
    "id": "uE3tuAZyuTh8"
   },
   "source": [
    "Integers are exactly what they sound like: they hold whole numbers, and operations involving them and other whole numbers will always yield whole numbers. This is an important point in general programming, because variable types are not generally reassigned dynamically. So, for example, the operation 5/2 would yield 2 rather than 2.5 if 5 is an integer. In our case, however, we are using Python 3, which will automatically convert an integer to the next type of variable if the natural output is not a whole number, as below :"
   ]
  },
  {
   "cell_type": "code",
   "execution_count": 25,
   "metadata": {
    "id": "iswJSZeYuTh8"
   },
   "outputs": [
    {
     "data": {
      "text/plain": [
       "2.5"
      ]
     },
     "execution_count": 25,
     "metadata": {},
     "output_type": "execute_result"
    }
   ],
   "source": [
    "b/2"
   ]
  },
  {
   "cell_type": "markdown",
   "metadata": {
    "id": "LFURZux4uTh-"
   },
   "source": [
    "If we assign this to a variable, we will have a new type of variable: a floating point number, or float for short. Note that after completing this operation, b is no longer an integer, as you can see using type.\n",
    "\n",
    "unlike b, b/2 is ***not*** an integer, as you can see by creating a new variable, storing b/2 in it, and typing it."
   ]
  },
  {
   "cell_type": "code",
   "execution_count": 26,
   "metadata": {
    "id": "2N6gjX_auTh_"
   },
   "outputs": [],
   "source": [
    "c = b/2"
   ]
  },
  {
   "cell_type": "code",
   "execution_count": 27,
   "metadata": {
    "id": "Hv5sR6KBuTiD"
   },
   "outputs": [
    {
     "data": {
      "text/plain": [
       "2.5"
      ]
     },
     "execution_count": 27,
     "metadata": {},
     "output_type": "execute_result"
    }
   ],
   "source": [
    "c"
   ]
  },
  {
   "cell_type": "code",
   "execution_count": 28,
   "metadata": {
    "id": "6uPiJzOvuTiF"
   },
   "outputs": [
    {
     "data": {
      "text/plain": [
       "float"
      ]
     },
     "execution_count": 28,
     "metadata": {},
     "output_type": "execute_result"
    }
   ],
   "source": [
    "type(c)"
   ]
  },
  {
   "cell_type": "markdown",
   "metadata": {
    "id": "8ECnJnMFuTiG"
   },
   "source": [
    "A floating point variable is capable of holding real numbers.\n",
    "\n",
    "Why have different types of variables for integers versus non-integer real numbers? In mathematics there is no need to make the distinction, of course: all integers are real numbers, so it would seem that there should be no reason to have a separate type of variable to hold integers. However, this ignores the way computers work. On a computer, operations involving integers are exact: 1 + 1 is exactly 2. However, operations on real numbers are necessarily inexact. I say necessarily because a real number is capable of having an arbitrary number of decimal places. The number pi contains infinitely many digits, and never repeats, but my computer only comes with a finite amount of memory and processor power.\n",
    "\n",
    "Even rational numbers (like 2/3) run into this problem, because their decimal representation (or to be exact their representation in binary) may be an infinitely repeating sequence. Thus it is not possible to perform operations on arbitrary real numbers to exact precision. Instead, arithmetic operations on floating point numbers are approximate, with the level of accuracy determined by factors like how much memory one wants to devote to storing digits, and how much processor time one wants to spend manipulating them.\n",
    "\n",
    "On most computers a python floating point number is accurate to about 1 in 10^15, but this depends on both the architecture and on the operations you perform. That's enough accuracy for many purposes, but there are plenty of situations (for example counting things) when we really want to do things precisely, and we want 1 + 1 to be exactly 2. That's what integers are there for.\n",
    "\n",
    "A third type of very useful variable is strings, abbreviated str. A string is a sequence of characters, and one can declare that something is a string by putting characters in quotation marks (either \" or ' is fine):"
   ]
  },
  {
   "cell_type": "code",
   "execution_count": 29,
   "metadata": {
    "id": "3yE9AWODuTiH"
   },
   "outputs": [],
   "source": [
    "d = \"star\""
   ]
  },
  {
   "cell_type": "code",
   "execution_count": 30,
   "metadata": {
    "id": "khySj6FHuTiJ"
   },
   "outputs": [
    {
     "data": {
      "text/plain": [
       "str"
      ]
     },
     "execution_count": 30,
     "metadata": {},
     "output_type": "execute_result"
    }
   ],
   "source": [
    "type(d)"
   ]
  },
  {
   "cell_type": "markdown",
   "metadata": {
    "id": "gZAbVP-QuTiL"
   },
   "source": [
    "The quotation marks are important here. To see why, try issuing the command without them:"
   ]
  },
  {
   "cell_type": "code",
   "execution_count": 31,
   "metadata": {
    "id": "U4FpDaKpuTiL"
   },
   "outputs": [],
   "source": [
    "# d = star"
   ]
  },
  {
   "cell_type": "markdown",
   "metadata": {
    "id": "gmJKfDw6uTiN"
   },
   "source": [
    "This is an error message, complaining that the computer doesn't know what star is. The problem is that, without the quotation marks, python thinks that star is the name of a variable, and complains when it can't find a variable by that name. Putting the quotation marks tells python that we mean a string, not a variable named star.\n",
    "\n",
    "***Note that in instructions we will frequently give you \"broken\" cells like the one above. Make sure to remove or comment these out before handing in your notebook so that it will run***\n",
    "\n",
    "Obviously we can't add strings in the same sense that we add numbers, but we can still do operations on them. The plus operation concatenates two strings together:"
   ]
  },
  {
   "cell_type": "code",
   "execution_count": 32,
   "metadata": {
    "id": "aRuHMtSCuTiO"
   },
   "outputs": [],
   "source": [
    "e = \"planet\""
   ]
  },
  {
   "cell_type": "code",
   "execution_count": 33,
   "metadata": {
    "id": "CCSu7EAsuTiQ"
   },
   "outputs": [
    {
     "data": {
      "text/plain": [
       "'starplanet'"
      ]
     },
     "execution_count": 33,
     "metadata": {},
     "output_type": "execute_result"
    }
   ],
   "source": [
    "d+e"
   ]
  },
  {
   "cell_type": "markdown",
   "metadata": {
    "id": "r1_AbnCuuTiS"
   },
   "source": [
    "In addition to integers, floats, and strings, there are three other types of variables worth mentioning. The first is a Boolean variable (named after George Boole), which represents a logical value. Boolean variables can be either True or False:"
   ]
  },
  {
   "cell_type": "code",
   "execution_count": 34,
   "metadata": {
    "id": "_B87FWj5uTiS"
   },
   "outputs": [],
   "source": [
    "g = True"
   ]
  },
  {
   "cell_type": "code",
   "execution_count": 35,
   "metadata": {
    "id": "j3rtOWeVuTiW"
   },
   "outputs": [
    {
     "data": {
      "text/plain": [
       "bool"
      ]
     },
     "execution_count": 35,
     "metadata": {},
     "output_type": "execute_result"
    }
   ],
   "source": [
    "type(g)"
   ]
  },
  {
   "cell_type": "markdown",
   "metadata": {
    "id": "IVPIaEyquTiZ"
   },
   "source": [
    "Boolean variables can have logic operations performed on them. In particular, there are three logical operators that we care about: not, and, and or. Play around with the cells below (defining new variables to test your theories on if you wish) and see if you can figure out what each one does, and then describe it below."
   ]
  },
  {
   "cell_type": "code",
   "execution_count": 36,
   "metadata": {
    "id": "xifoaLdIuTia"
   },
   "outputs": [
    {
     "data": {
      "text/plain": [
       "False"
      ]
     },
     "execution_count": 36,
     "metadata": {},
     "output_type": "execute_result"
    }
   ],
   "source": [
    "not g"
   ]
  },
  {
   "cell_type": "code",
   "execution_count": 37,
   "metadata": {
    "id": "muZMPkR4uTid"
   },
   "outputs": [],
   "source": [
    "h = False"
   ]
  },
  {
   "cell_type": "code",
   "execution_count": 38,
   "metadata": {
    "id": "taIGRR50uTif"
   },
   "outputs": [
    {
     "data": {
      "text/plain": [
       "False"
      ]
     },
     "execution_count": 38,
     "metadata": {},
     "output_type": "execute_result"
    }
   ],
   "source": [
    "g and h"
   ]
  },
  {
   "cell_type": "code",
   "execution_count": 39,
   "metadata": {
    "id": "5kiqkK63uTii"
   },
   "outputs": [
    {
     "data": {
      "text/plain": [
       "True"
      ]
     },
     "execution_count": 39,
     "metadata": {},
     "output_type": "execute_result"
    }
   ],
   "source": [
    "g or h"
   ]
  },
  {
   "cell_type": "markdown",
   "metadata": {
    "id": "up6BhxLxuTik"
   },
   "source": []
  },
  {
   "cell_type": "markdown",
   "metadata": {
    "id": "nlsI6XimuTil"
   },
   "source": [
    "<div class=hw>\n",
    "\n",
    "### Exercise 3\n",
    "-------------\n",
    "\n",
    "Double click here and edit the text below to describe what each operator does in your own wods\n",
    "\n",
    "the NOT operator negates the statement and returns the other boolean from given.\n",
    "\n",
    "the AND operator returns True if both statments are true\n",
    "\n",
    "the OR operator returns True if at least one statement is true"
   ]
  },
  {
   "cell_type": "markdown",
   "metadata": {
    "id": "fZ5Otah-uTim"
   },
   "source": [
    "## 4. Arrays\n",
    "\n",
    "### 4.1 Defining Arrays\n",
    "\n",
    "The variables we have dealt with so far are fairly simple. They represent single values. However, for scientific or numeric purposes we often want to deal with large collections of numbers. The basic tool for doing this is an array. Arrays are not part of the core python language, but they are part of a very commonly used code library called numpy. In order to invoke or load numpy in this environment, you will need to \"import\" it."
   ]
  },
  {
   "cell_type": "code",
   "execution_count": 40,
   "metadata": {
    "id": "dQQGmgiLuTim"
   },
   "outputs": [],
   "source": [
    "import numpy"
   ]
  },
  {
   "cell_type": "markdown",
   "metadata": {
    "id": "VDo9SJtYuTio"
   },
   "source": [
    "Once loaded, you can take advantage of any numpy function (like the \"type\" function that is part of the python core language) by typing numpy.functionname. For example, the square root (sqrt) function:"
   ]
  },
  {
   "cell_type": "code",
   "execution_count": 41,
   "metadata": {
    "id": "lLRbhUsiuTio"
   },
   "outputs": [
    {
     "data": {
      "text/plain": [
       "np.float64(4.0)"
      ]
     },
     "execution_count": 41,
     "metadata": {},
     "output_type": "execute_result"
    }
   ],
   "source": [
    "numpy.sqrt(16)"
   ]
  },
  {
   "cell_type": "markdown",
   "metadata": {
    "id": "_L4QJmW0uTiq"
   },
   "source": [
    "As we will use numpy a lot, it is convenient to import it under a shorter name, as below. This can be anything really, but it's easiest to use something that will be easy to remember. The standard short name for numpy is np"
   ]
  },
  {
   "cell_type": "code",
   "execution_count": 42,
   "metadata": {
    "id": "VNjG9PbHuTir"
   },
   "outputs": [],
   "source": [
    "import numpy as np"
   ]
  },
  {
   "cell_type": "code",
   "execution_count": 43,
   "metadata": {
    "id": "dFe-1SNmuTis"
   },
   "outputs": [
    {
     "data": {
      "text/plain": [
       "3.141592653589793"
      ]
     },
     "execution_count": 43,
     "metadata": {},
     "output_type": "execute_result"
    }
   ],
   "source": [
    "np.pi"
   ]
  },
  {
   "cell_type": "markdown",
   "metadata": {
    "id": "PoGAafLDuTiv"
   },
   "source": [
    "OK back to arrays, which besides built in mathematical functions like square roots, exponentials, etc., are one of the most common uses of the numpy library.\n",
    "\n",
    "Formally, an array is a collection of objects that all have the same type: a collection of integers, or floats, or bools, or anything else. In the simplest case, these are simply arranged into a numbered list, one after another. Think of an array as a box with a bunch of numbered compartments, each of which can hold something. For example, here is a box with eight compartments.\n",
    "\n",
    "![](https://drive.google.com/uc?export=view&id=1liecCBkXR30DXDrw6lnOkcLpoQQNJ9sE)\n",
    "\n",
    "In python, and in many (but not all) computer languages, we start counting at 0, so that the first compartment is compartment 0, the second is compartment 1, and so forth. We can create an array in python in a few different ways. One is just to explicitly list the elements we want it to contain. The syntax is straightforward:"
   ]
  },
  {
   "cell_type": "code",
   "execution_count": 44,
   "metadata": {
    "id": "Cjq_wjAouTiv"
   },
   "outputs": [],
   "source": [
    "x = np.array([10,11,12,13,14,15,16,17])"
   ]
  },
  {
   "cell_type": "markdown",
   "metadata": {
    "id": "aYoztcpAuTix"
   },
   "source": [
    "This puts the values we specified into the appropriate compartments in the box. The array x can be thought of like this:\n",
    "\n",
    "![](https://drive.google.com/uc?export=view&id=1Pcu4VtKtojLGa3Mkx9fHkXpkNPHeWiTe)\n",
    "\n",
    "note that there is no output here, because again we are defining a variable. You can see it and check the stored values by typing the variable name."
   ]
  },
  {
   "cell_type": "code",
   "execution_count": 45,
   "metadata": {
    "id": "x655TmniuTix"
   },
   "outputs": [
    {
     "data": {
      "text/plain": [
       "array([10, 11, 12, 13, 14, 15, 16, 17])"
      ]
     },
     "execution_count": 45,
     "metadata": {},
     "output_type": "execute_result"
    }
   ],
   "source": [
    "x"
   ]
  },
  {
   "cell_type": "markdown",
   "metadata": {
    "id": "TDfhGfuouTi1"
   },
   "source": [
    "If you type the array you've defined, you'll also see that is is a special new kind of numpy variable."
   ]
  },
  {
   "cell_type": "code",
   "execution_count": 46,
   "metadata": {
    "id": "yfyvAt2XuTi1"
   },
   "outputs": [
    {
     "data": {
      "text/plain": [
       "numpy.ndarray"
      ]
     },
     "execution_count": 46,
     "metadata": {},
     "output_type": "execute_result"
    }
   ],
   "source": [
    "type(x)"
   ]
  },
  {
   "cell_type": "markdown",
   "metadata": {
    "id": "8Qi_FDL7uTi3"
   },
   "source": [
    "*For those of you who have used python before, note that an array is different from a list (defined simply with square brackets, e.g. a = [1,2,3,4,5]). There are some subtle differences between the two, but the principal practical difference is that you can do arithmetic operations on arrays, but not lists.*\n",
    "\n",
    "In this case the array we have created is an array of integers, since each of the entries we specified was an integer. If one of them had been a floating point number (for example if we changed the 10 to 10.0), then the array would have been an array of floats, meaning that EACH entry would have been made a float. Remember the rule: every element of an array must have the same type, so if you make one them into a float, then all of them will be floats.\n",
    "\n",
    "Another way to create an array is to simply give the number of elements, and set them all to be zero initially. This can be done with the zeros command:"
   ]
  },
  {
   "cell_type": "code",
   "execution_count": 47,
   "metadata": {
    "id": "jY7HVO42uTi3"
   },
   "outputs": [
    {
     "data": {
      "text/plain": [
       "array([0., 0., 0., 0., 0., 0., 0., 0.])"
      ]
     },
     "execution_count": 47,
     "metadata": {},
     "output_type": "execute_result"
    }
   ],
   "source": [
    "y = np.zeros(8)\n",
    "y"
   ]
  },
  {
   "cell_type": "markdown",
   "metadata": {
    "id": "fxaZJ0PuuTi7"
   },
   "source": [
    "The zeros command creates an array with the specified number of elements, and sets them all to zero. Note that they are all floats (you can tell from the decimal point after each zero), which is what the zeros command creates by default. If you want some other data type, you can specify it using an option built into the zeros command called \"dtype\", which allows you to specify the data type you want:"
   ]
  },
  {
   "cell_type": "code",
   "execution_count": 48,
   "metadata": {
    "id": "5AEIWrGmuTi7"
   },
   "outputs": [
    {
     "data": {
      "text/plain": [
       "array([0, 0, 0, 0, 0, 0, 0, 0])"
      ]
     },
     "execution_count": 48,
     "metadata": {},
     "output_type": "execute_result"
    }
   ],
   "source": [
    "yint = np.zeros(8, dtype='int')\n",
    "yint"
   ]
  },
  {
   "cell_type": "markdown",
   "metadata": {
    "id": "_b55wMACuTi9"
   },
   "source": [
    "<div class=sidebar>\n",
    "\n",
    "### Sidebar - Function options/keywords\n",
    "-----------------------\n",
    "\n",
    "Say you know you want to use the numpy function zeros to define an integer array, but you can't remember the syntax for the option, its name, etc. To find out what is available, you can use one of the special functions of a Jupyter code cell by following the function name with a question mark, as below:"
   ]
  },
  {
   "cell_type": "code",
   "execution_count": 49,
   "metadata": {
    "id": "g52OByYBuTi-"
   },
   "outputs": [
    {
     "name": "stdout",
     "output_type": "stream",
     "text": [
      "\u001b[31mDocstring:\u001b[39m\n",
      "zeros(shape, dtype=float, order='C', *, like=None)\n",
      "\n",
      "Return a new array of given shape and type, filled with zeros.\n",
      "\n",
      "Parameters\n",
      "----------\n",
      "shape : int or tuple of ints\n",
      "    Shape of the new array, e.g., ``(2, 3)`` or ``2``.\n",
      "dtype : data-type, optional\n",
      "    The desired data-type for the array, e.g., `numpy.int8`.  Default is\n",
      "    `numpy.float64`.\n",
      "order : {'C', 'F'}, optional, default: 'C'\n",
      "    Whether to store multi-dimensional data in row-major\n",
      "    (C-style) or column-major (Fortran-style) order in\n",
      "    memory.\n",
      "like : array_like, optional\n",
      "    Reference object to allow the creation of arrays which are not\n",
      "    NumPy arrays. If an array-like passed in as ``like`` supports\n",
      "    the ``__array_function__`` protocol, the result will be defined\n",
      "    by it. In this case, it ensures the creation of an array object\n",
      "    compatible with that passed in via this argument.\n",
      "\n",
      "    .. versionadded:: 1.20.0\n",
      "\n",
      "Returns\n",
      "-------\n",
      "out : ndarray\n",
      "    Array of zeros with the given shape, dtype, and order.\n",
      "\n",
      "See Also\n",
      "--------\n",
      "zeros_like : Return an array of zeros with shape and type of input.\n",
      "empty : Return a new uninitialized array.\n",
      "ones : Return a new array setting values to one.\n",
      "full : Return a new array of given shape filled with value.\n",
      "\n",
      "Examples\n",
      "--------\n",
      ">>> import numpy as np\n",
      ">>> np.zeros(5)\n",
      "array([ 0.,  0.,  0.,  0.,  0.])\n",
      "\n",
      ">>> np.zeros((5,), dtype=int)\n",
      "array([0, 0, 0, 0, 0])\n",
      "\n",
      ">>> np.zeros((2, 1))\n",
      "array([[ 0.],\n",
      "       [ 0.]])\n",
      "\n",
      ">>> s = (2,2)\n",
      ">>> np.zeros(s)\n",
      "array([[ 0.,  0.],\n",
      "       [ 0.,  0.]])\n",
      "\n",
      ">>> np.zeros((2,), dtype=[('x', 'i4'), ('y', 'i4')]) # custom dtype\n",
      "array([(0, 0), (0, 0)],\n",
      "      dtype=[('x', '<i4'), ('y', '<i4')])\n",
      "\u001b[31mType:\u001b[39m      builtin_function_or_method"
     ]
    }
   ],
   "source": [
    "np.zeros?"
   ]
  },
  {
   "cell_type": "markdown",
   "metadata": {
    "id": "D1p6rt3WuTjA"
   },
   "source": [
    "<div class=sidebar>\n",
    "This prints the function's \"docstring\". This docstring will list the available options (keywords), and will often give examples of their usage. A good descriptive docstring is a very important part of writing functions, as we will discuss in detail next week."
   ]
  },
  {
   "cell_type": "markdown",
   "metadata": {
    "id": "YGO2uFGCuTjA"
   },
   "source": [
    "The analogous numpy function \"ones\" creates an array where every element is 1. Here too, the default data type is float."
   ]
  },
  {
   "cell_type": "code",
   "execution_count": 50,
   "metadata": {
    "id": "ysGCVP49uTjA"
   },
   "outputs": [
    {
     "data": {
      "text/plain": [
       "array([1., 1., 1., 1., 1., 1., 1., 1.])"
      ]
     },
     "execution_count": 50,
     "metadata": {},
     "output_type": "execute_result"
    }
   ],
   "source": [
    "z = np.ones(8)\n",
    "z"
   ]
  },
  {
   "cell_type": "markdown",
   "metadata": {
    "id": "4-PUl1rPuTjC"
   },
   "source": [
    "A third and very useful way to create arrays is using the arange command. This creates an array with specified starting and ending values, and with a specified step size. For example:"
   ]
  },
  {
   "cell_type": "code",
   "execution_count": 51,
   "metadata": {
    "id": "Fj3fenZeuTjD"
   },
   "outputs": [
    {
     "data": {
      "text/plain": [
       "array([ 0,  2,  4,  6,  8, 10, 12, 14])"
      ]
     },
     "execution_count": 51,
     "metadata": {},
     "output_type": "execute_result"
    }
   ],
   "source": [
    "w = np.arange(0,16,2)\n",
    "w"
   ]
  },
  {
   "cell_type": "markdown",
   "metadata": {
    "id": "Y5GCN5E3uTjE"
   },
   "source": [
    "The first argument to arange is the starting value, the second is the ending value (notice that this is exclusive, not inclusive, so in the above example the array z does not contain the number 16), and the final entry is the step size.\n",
    "\n",
    "Again, because all the entries were integers, the array consists of integers. If one of them had been a float, the array would have contained floats.\n",
    "\n",
    "Note that one can omit the final entry in arange, in which case the step size defaults to a value of 1. One can also omit the second entry (for example just say arange(8)), in which case the array created starts with 0 as the first entry, has a step size of 1, and contains the number of entries specified in the argument. Thus arange(8) creates an array that contains the numbers 0 to 7."
   ]
  },
  {
   "cell_type": "code",
   "execution_count": 52,
   "metadata": {
    "id": "d3JZidAiuTjF"
   },
   "outputs": [
    {
     "data": {
      "text/plain": [
       "array([0, 1, 2, 3, 4, 5, 6, 7])"
      ]
     },
     "execution_count": 52,
     "metadata": {},
     "output_type": "execute_result"
    }
   ],
   "source": [
    "np.arange(8)"
   ]
  },
  {
   "cell_type": "markdown",
   "metadata": {
    "id": "gIiSWp4zuTjH"
   },
   "source": [
    "### 4.2 Array Manipulation\n",
    "\n",
    "So how do we deal with arrays? What can we do with them?\n",
    "\n",
    "One way to deal with an array is to interact with its elements individually. We can do that by specifying their index, which designates which compartment in the box we want to access. We can then print out values, alter them, or do any other operation on them we could do with a simple number. The way we index an array is by putting a number in square brackets after it. For example:"
   ]
  },
  {
   "cell_type": "code",
   "execution_count": 53,
   "metadata": {
    "id": "HPTgCkcduTjH"
   },
   "outputs": [
    {
     "data": {
      "text/plain": [
       "np.int64(12)"
      ]
     },
     "execution_count": 53,
     "metadata": {},
     "output_type": "execute_result"
    }
   ],
   "source": [
    "x[2]"
   ]
  },
  {
   "cell_type": "code",
   "execution_count": 54,
   "metadata": {
    "id": "HNZPpzA6uTjI"
   },
   "outputs": [
    {
     "data": {
      "text/plain": [
       "numpy.int64"
      ]
     },
     "execution_count": 54,
     "metadata": {},
     "output_type": "execute_result"
    }
   ],
   "source": [
    "type(x[2])"
   ]
  },
  {
   "cell_type": "code",
   "execution_count": 55,
   "metadata": {
    "id": "yst5K8YtuTjK"
   },
   "outputs": [
    {
     "data": {
      "text/plain": [
       "np.int64(24)"
      ]
     },
     "execution_count": 55,
     "metadata": {},
     "output_type": "execute_result"
    }
   ],
   "source": [
    "x[2]*2"
   ]
  },
  {
   "cell_type": "code",
   "execution_count": 56,
   "metadata": {
    "id": "tIDfJoYEuTjM"
   },
   "outputs": [
    {
     "data": {
      "text/plain": [
       "array([10, 11, 32, 13, 14, 15, 16, 17])"
      ]
     },
     "execution_count": 56,
     "metadata": {},
     "output_type": "execute_result"
    }
   ],
   "source": [
    "x[2] = 32\n",
    "x"
   ]
  },
  {
   "cell_type": "markdown",
   "metadata": {
    "id": "X536_u_tuTjN"
   },
   "source": [
    "In the examples above, we printed out the value stored in compartment number 2 of the array x, we checked the type of value stored in that compartment (in this case, a 64 bit integer), we multiplied it by 2 to get a result, and then we assigned a different value (32) to that compartment, erasing its original value.\n",
    "\n",
    "So why are arrays more useful than just individual variables? There are a number of reasons, but one of the most important is called broadcasting, meaning that we can access, perform arithmetic with, and alter multiple elements of an array at once. We specify parts of an array by giving a range of indices in the square brackets, separated by a colon. For example,"
   ]
  },
  {
   "cell_type": "code",
   "execution_count": 57,
   "metadata": {
    "id": "d32vPxPSuTjO"
   },
   "outputs": [
    {
     "data": {
      "text/plain": [
       "array([11, 32, 13])"
      ]
     },
     "execution_count": 57,
     "metadata": {},
     "output_type": "execute_result"
    }
   ],
   "source": [
    "x[1:4]"
   ]
  },
  {
   "cell_type": "markdown",
   "metadata": {
    "id": "D29KrGZLuTjQ"
   },
   "source": [
    "Here the number before the colon specifies the starting index, and the number after the colon specifies the ending index; **this is exclusive, not inclusive, so the ending index element is not included**. If we omit the number before the colon, the region of the array we are referring to is assumed to start from element 0, and if we omit the number after the colon, it is assumed to end at the last element, as below:"
   ]
  },
  {
   "cell_type": "code",
   "execution_count": 58,
   "metadata": {
    "id": "SxN5zdiduTjQ"
   },
   "outputs": [
    {
     "data": {
      "text/plain": [
       "array([10, 11, 32, 13])"
      ]
     },
     "execution_count": 58,
     "metadata": {},
     "output_type": "execute_result"
    }
   ],
   "source": [
    "x[:4]"
   ]
  },
  {
   "cell_type": "code",
   "execution_count": 59,
   "metadata": {
    "id": "AFSscFskuTjS"
   },
   "outputs": [
    {
     "data": {
      "text/plain": [
       "array([14, 15, 16, 17])"
      ]
     },
     "execution_count": 59,
     "metadata": {},
     "output_type": "execute_result"
    }
   ],
   "source": [
    "x[4:]"
   ]
  },
  {
   "cell_type": "markdown",
   "metadata": {
    "id": "kJf7050luTjT"
   },
   "source": [
    "We can also specify that we want not every element, but every 2nd element, or every 3rd element, etc., within our specified range. For example:"
   ]
  },
  {
   "cell_type": "code",
   "execution_count": 60,
   "metadata": {
    "id": "wpa51QLluTjT"
   },
   "outputs": [
    {
     "data": {
      "text/plain": [
       "array([10, 32, 14, 16])"
      ]
     },
     "execution_count": 60,
     "metadata": {},
     "output_type": "execute_result"
    }
   ],
   "source": [
    "x[::2]"
   ]
  },
  {
   "cell_type": "markdown",
   "metadata": {
    "id": "8nWMxLBZuTjV"
   },
   "source": [
    "Here the empty space before the first colon says to start at element 0, the empty space between the first and second colons says to end at the end of the array, and the number 2 after the colon says to access every 2nd element, rather than every element, which is the default.\n",
    "\n",
    "Finally, array indices can be specified either as positive numbers, which count from the beginning, or as negative numbers, which count from the end. The last element is -1, the second to last is -2, and so forth, as shown below:\n",
    "\n",
    "![](https://drive.google.com/uc?export=view&id=1aHrZpmzcacTnlE76kCQWT75KIXGMRV7g)\n",
    "\n",
    "This is convenient, for example, if one wants to refer to all but the last 2 elements of an array:"
   ]
  },
  {
   "cell_type": "code",
   "execution_count": 61,
   "metadata": {
    "id": "ZwH8rHKCuTjV"
   },
   "outputs": [
    {
     "data": {
      "text/plain": [
       "array([10, 11, 32, 13, 14, 15])"
      ]
     },
     "execution_count": 61,
     "metadata": {},
     "output_type": "execute_result"
    }
   ],
   "source": [
    "x[:-2]"
   ]
  },
  {
   "cell_type": "markdown",
   "metadata": {
    "id": "wV7GzMNfuTjW"
   },
   "source": [
    "The really useful thing is that one can use this capability to perform mathematical operations or assignments to multiple elements of an array at once. Several examples are given below. Execute the cell, examine the output, and make sure you understand what happened to the array before moving on."
   ]
  },
  {
   "cell_type": "code",
   "execution_count": 62,
   "metadata": {
    "id": "pW8w4zIyuTjW"
   },
   "outputs": [
    {
     "data": {
      "text/plain": [
       "array([ 0,  1, 22,  3,  4,  5,  6,  7])"
      ]
     },
     "execution_count": 62,
     "metadata": {},
     "output_type": "execute_result"
    }
   ],
   "source": [
    "x-10"
   ]
  },
  {
   "cell_type": "code",
   "execution_count": 63,
   "metadata": {
    "id": "h1Sr1LkCuTja"
   },
   "outputs": [
    {
     "data": {
      "text/plain": [
       "array([ 1, 22,  3])"
      ]
     },
     "execution_count": 63,
     "metadata": {},
     "output_type": "execute_result"
    }
   ],
   "source": [
    "x[1:4]-10"
   ]
  },
  {
   "cell_type": "code",
   "execution_count": 64,
   "metadata": {
    "id": "g-4z9bWVuTjc"
   },
   "outputs": [
    {
     "data": {
      "text/plain": [
       "array([ 10, -10, -10, -10,  14,  15,  16,  17])"
      ]
     },
     "execution_count": 64,
     "metadata": {},
     "output_type": "execute_result"
    }
   ],
   "source": [
    "x[1:4]=-10\n",
    "x"
   ]
  },
  {
   "cell_type": "code",
   "execution_count": 65,
   "metadata": {
    "id": "st_nH75AuTje"
   },
   "outputs": [
    {
     "data": {
      "text/plain": [
       "array([  5, -10,   5, -10,   5,  15,   5,  17])"
      ]
     },
     "execution_count": 65,
     "metadata": {},
     "output_type": "execute_result"
    }
   ],
   "source": [
    "x[::2]=5\n",
    "x"
   ]
  },
  {
   "cell_type": "markdown",
   "metadata": {
    "id": "iHMjybCDuTjg"
   },
   "source": [
    "One can also do operations involving two arrays with the same number of elements. These operations are performed element by element. For example:"
   ]
  },
  {
   "cell_type": "code",
   "execution_count": 66,
   "metadata": {
    "id": "HQNsWkCHuTjh"
   },
   "outputs": [],
   "source": [
    "arr1 = np.arange(10)"
   ]
  },
  {
   "cell_type": "code",
   "execution_count": 67,
   "metadata": {
    "id": "NlNqQ1gLuTji"
   },
   "outputs": [],
   "source": [
    "arr2 = np.arange(10)*2"
   ]
  },
  {
   "cell_type": "code",
   "execution_count": 68,
   "metadata": {
    "id": "t0V1EVTsuTjk"
   },
   "outputs": [
    {
     "data": {
      "text/plain": [
       "array([ 0,  3,  6,  9, 12, 15, 18, 21, 24, 27])"
      ]
     },
     "execution_count": 68,
     "metadata": {},
     "output_type": "execute_result"
    }
   ],
   "source": [
    "arr1 + arr2"
   ]
  },
  {
   "cell_type": "markdown",
   "metadata": {
    "id": "ASduwh7NuTjm"
   },
   "source": [
    "In this example, x is filled with 0, 1, 2, ... 9, and y is filled with 0, 2, 4, ... 18. When we add them, we get 0, 3, 6, ... 27. The arrays are added together one element at a time, producing an output array that has the same number of elements as the two inputs.\n",
    "\n",
    "These capabilities for manipulating multiple elements at once are very convenient for manipulating large groups of numbers.\n",
    "\n",
    "### 4.3 Multidimensional arrays\n",
    "\n",
    "The arrays we've played with so far are one-dimensional, meaning that they look like a series of boxes laid out in a line. However, arrays can be multidimensional as well. For example:"
   ]
  },
  {
   "cell_type": "code",
   "execution_count": 69,
   "metadata": {
    "id": "Rc67hbBxuTjm"
   },
   "outputs": [
    {
     "data": {
      "text/plain": [
       "array([[10, 11, 12, 13, 14, 15, 16, 17],\n",
       "       [20, 21, 22, 23, 24, 25, 26, 27],\n",
       "       [30, 31, 32, 33, 34, 35, 36, 37]])"
      ]
     },
     "execution_count": 69,
     "metadata": {},
     "output_type": "execute_result"
    }
   ],
   "source": [
    "x2d = np.array([[10,11,12,13,14,15,16,17], [20,21,22,23,24,25,26,27], [30, 31, 32, 33, 34, 35, 36, 37]])\n",
    "x2d"
   ]
  },
  {
   "cell_type": "markdown",
   "metadata": {
    "id": "wA4fua8yuTjn"
   },
   "source": [
    "You can think of this as a box with multiple rows of compartments:\n",
    "\n",
    "![](https://drive.google.com/uc?export=view&id=1yijbZjKoJRtYVYA099KlAc_wwiKq8Kj5)\n",
    "\n",
    "The zeros and ones commands also work in multiple dimensions. You just have to specify the size of each dimension:"
   ]
  },
  {
   "cell_type": "code",
   "execution_count": 70,
   "metadata": {
    "id": "6JHEaoR0uTjo"
   },
   "outputs": [
    {
     "data": {
      "text/plain": [
       "array([[0., 0., 0., 0., 0., 0., 0.],\n",
       "       [0., 0., 0., 0., 0., 0., 0.],\n",
       "       [0., 0., 0., 0., 0., 0., 0.]])"
      ]
     },
     "execution_count": 70,
     "metadata": {},
     "output_type": "execute_result"
    }
   ],
   "source": [
    "y2d = np.zeros((3,7))\n",
    "y2d"
   ]
  },
  {
   "cell_type": "markdown",
   "metadata": {
    "id": "JGxPsGsKuTjr"
   },
   "source": [
    "Similarly, one can index multi-dimensional arrays just by indexing each dimension in turn. Execute each of the cells below and make sure you understand what it is doing."
   ]
  },
  {
   "cell_type": "code",
   "execution_count": 71,
   "metadata": {
    "id": "0lhztu7FuTjr"
   },
   "outputs": [
    {
     "data": {
      "text/plain": [
       "np.int64(10)"
      ]
     },
     "execution_count": 71,
     "metadata": {},
     "output_type": "execute_result"
    }
   ],
   "source": [
    "x2d[0,0]"
   ]
  },
  {
   "cell_type": "code",
   "execution_count": 72,
   "metadata": {
    "id": "q9Q3JbvyuTju"
   },
   "outputs": [
    {
     "data": {
      "text/plain": [
       "array([10, 11, 12, 13, 14, 15, 16, 17])"
      ]
     },
     "execution_count": 72,
     "metadata": {},
     "output_type": "execute_result"
    }
   ],
   "source": [
    "x2d[0,:]"
   ]
  },
  {
   "cell_type": "code",
   "execution_count": 73,
   "metadata": {
    "id": "H--TR8u-uTjv"
   },
   "outputs": [
    {
     "data": {
      "text/plain": [
       "array([11, 21, 31])"
      ]
     },
     "execution_count": 73,
     "metadata": {},
     "output_type": "execute_result"
    }
   ],
   "source": [
    "x2d[:,1]"
   ]
  },
  {
   "cell_type": "code",
   "execution_count": 74,
   "metadata": {
    "id": "3tid6GL6uTjx"
   },
   "outputs": [
    {
     "data": {
      "text/plain": [
       "array([[11, 12, 13],\n",
       "       [21, 22, 23],\n",
       "       [31, 32, 33]])"
      ]
     },
     "execution_count": 74,
     "metadata": {},
     "output_type": "execute_result"
    }
   ],
   "source": [
    "x2d[:,1:4]"
   ]
  },
  {
   "cell_type": "markdown",
   "metadata": {
    "id": "Ffny5f0WuTjy"
   },
   "source": [
    "Arrays can of course have more than two dimensions as well. In fact, there is no limit to how many dimensions they can have.\n",
    "\n",
    "You can also do useful things like find the maximum and minimum values in arrays, and their means and totals:"
   ]
  },
  {
   "cell_type": "code",
   "execution_count": 75,
   "metadata": {
    "id": "Nq0gE_nLuTjz"
   },
   "outputs": [
    {
     "data": {
      "text/plain": [
       "np.int64(10)"
      ]
     },
     "execution_count": 75,
     "metadata": {},
     "output_type": "execute_result"
    }
   ],
   "source": [
    "np.amin(x2d)"
   ]
  },
  {
   "cell_type": "code",
   "execution_count": 76,
   "metadata": {
    "id": "azxJQMXMuTj0"
   },
   "outputs": [
    {
     "data": {
      "text/plain": [
       "np.int64(37)"
      ]
     },
     "execution_count": 76,
     "metadata": {},
     "output_type": "execute_result"
    }
   ],
   "source": [
    "np.amax(x2d)"
   ]
  },
  {
   "cell_type": "code",
   "execution_count": 77,
   "metadata": {
    "id": "qq7rmxgTuTj2"
   },
   "outputs": [
    {
     "data": {
      "text/plain": [
       "np.float64(23.5)"
      ]
     },
     "execution_count": 77,
     "metadata": {},
     "output_type": "execute_result"
    }
   ],
   "source": [
    "np.mean(x2d)"
   ]
  },
  {
   "cell_type": "code",
   "execution_count": 78,
   "metadata": {
    "id": "3THUQWytuTj3"
   },
   "outputs": [
    {
     "data": {
      "text/plain": [
       "np.int64(564)"
      ]
     },
     "execution_count": 78,
     "metadata": {},
     "output_type": "execute_result"
    }
   ],
   "source": [
    "np.sum(x2d)"
   ]
  },
  {
   "cell_type": "markdown",
   "metadata": {
    "id": "TgtD5SDEuTj4"
   },
   "source": [
    "### 4.4 Array Attributes\n",
    "\n",
    "Much of astronomy is image manipulation, and images are essentially very large arrays (large enough that it no longer becomes practical to print them to the window as we've been doing here). Upon importing an array (e.g. an astronomical image) or after manipulating it, you will often want to know some of its basic properties. There are several built-in python functions that are particularly useful for this, and you call them by typing the variable name + the operator name, as below."
   ]
  },
  {
   "cell_type": "code",
   "execution_count": 79,
   "metadata": {
    "id": "r2Yg9iMjuTj4"
   },
   "outputs": [
    {
     "data": {
      "text/plain": [
       "2"
      ]
     },
     "execution_count": 79,
     "metadata": {},
     "output_type": "execute_result"
    }
   ],
   "source": [
    "x2d.ndim"
   ]
  },
  {
   "cell_type": "code",
   "execution_count": 80,
   "metadata": {
    "id": "t6U5zM2puTj6"
   },
   "outputs": [
    {
     "data": {
      "text/plain": [
       "(3, 8)"
      ]
     },
     "execution_count": 80,
     "metadata": {},
     "output_type": "execute_result"
    }
   ],
   "source": [
    "x2d.shape"
   ]
  },
  {
   "cell_type": "code",
   "execution_count": 81,
   "metadata": {
    "id": "8K00bt3euTj7"
   },
   "outputs": [
    {
     "data": {
      "text/plain": [
       "24"
      ]
     },
     "execution_count": 81,
     "metadata": {},
     "output_type": "execute_result"
    }
   ],
   "source": [
    "x2d.size"
   ]
  },
  {
   "cell_type": "code",
   "execution_count": 82,
   "metadata": {
    "id": "B6fTrXgMuTj9"
   },
   "outputs": [
    {
     "data": {
      "text/plain": [
       "dtype('int64')"
      ]
     },
     "execution_count": 82,
     "metadata": {},
     "output_type": "execute_result"
    }
   ],
   "source": [
    "x2d.dtype"
   ]
  },
  {
   "cell_type": "markdown",
   "metadata": {
    "id": "Vowm1WFWuTj_"
   },
   "source": [
    "<div class=hw>\n",
    "\n",
    "### Exercise 4\n",
    "\n",
    "-------------\n",
    "\n",
    "Follow the steps below.\n",
    "\n",
    "1) Create a 10 x 10 numpy integer array and set it equal to a variable. Print it to output once you're done populating it as described below. **Try to do this with as little hard-coding as possible! (i.e., don't just type out each array entry - use array indexing, np.zeros/np.ones, array operations, etc.)**\n",
    "  * make the first row (row 0) contain the numbers 1 through 10 in order  \n",
    "  * make each element in the second row (row 1) equal to 1 more than the first row (row 0)\n",
    "  * row 2 = row 0\\*10  \n",
    "  * row 3 = (row 0)$^2$  \n",
    "  * row 4 = $\\sqrt{row 1}$  \n",
    "  * row 5 = 3\\*(row 2)-2\\*(row 3)\n",
    "  * row 6 = alternating 0s and 1s, starting with 1\n",
    "  * row 7 = all 8s except the third from last element, which is -8\n",
    "  * row 8 = 1, 1/2, 1/3, 1/4, ...\n",
    "  * row 9 = all elements are 42\n",
    "\n",
    "2) copy this array into a new variable, then in the new array, multiply each number in the third column (column 2) by two  \n",
    "3) set the second to last element in each row of the new array equal to 0, and print the new array as output  \n",
    "4) multiply your original array by this new array and print the output  "
   ]
  },
  {
   "cell_type": "code",
   "execution_count": 83,
   "metadata": {
    "id": "vY4081sDuTj_"
   },
   "outputs": [],
   "source": [
    "#execute this cell before beginning so that the array will be more readable when you print it\n",
    "np.set_printoptions(precision=3, suppress=True, linewidth=120)"
   ]
  },
  {
   "cell_type": "code",
   "execution_count": 84,
   "metadata": {},
   "outputs": [
    {
     "name": "stdout",
     "output_type": "stream",
     "text": [
      "[[  1.      2.      3.      4.      5.      6.      7.      8.      9.     10.   ]\n",
      " [  2.      3.      4.      5.      6.      7.      8.      9.     10.     11.   ]\n",
      " [ 10.     20.     30.     40.     50.     60.     70.     80.     90.    100.   ]\n",
      " [  1.      4.      9.     16.     25.     36.     49.     64.     81.    100.   ]\n",
      " [  1.414   1.732   2.      2.236   2.449   2.646   2.828   3.      3.162   3.317]\n",
      " [ 28.     52.     72.     88.    100.    108.    112.    112.    108.    100.   ]\n",
      " [  1.      0.      1.      0.      1.      0.      1.      0.      1.      0.   ]\n",
      " [  8.      8.      8.      8.      8.      8.      8.      8.      8.     -8.   ]\n",
      " [  1.      0.5     0.333   0.25    0.2     0.167   0.143   0.125   0.111   0.1  ]\n",
      " [ 42.     42.     42.     42.     42.     42.     42.     42.     42.     42.   ]] \n",
      "\n",
      "[[  1.      2.      6.      4.      5.      6.      7.      8.      0.     10.   ]\n",
      " [  2.      3.      8.      5.      6.      7.      8.      9.      0.     11.   ]\n",
      " [ 10.     20.     60.     40.     50.     60.     70.     80.      0.    100.   ]\n",
      " [  1.      4.     18.     16.     25.     36.     49.     64.      0.    100.   ]\n",
      " [  1.414   1.732   4.      2.236   2.449   2.646   2.828   3.      0.      3.317]\n",
      " [ 28.     52.    144.     88.    100.    108.    112.    112.      0.    100.   ]\n",
      " [  1.      0.      2.      0.      1.      0.      1.      0.      0.      0.   ]\n",
      " [  8.      8.     16.      8.      8.      8.      8.      8.      0.     -8.   ]\n",
      " [  1.      0.5     0.667   0.25    0.2     0.167   0.143   0.125   0.      0.1  ]\n",
      " [ 42.     42.     84.     42.     42.     42.     42.     42.      0.     42.   ]] \n",
      "\n",
      "[[    1.        4.       36.       16.       25.       36.       49.       64.        0.      100.   ]\n",
      " [    4.        9.       64.       25.       36.       49.       64.       81.        0.      121.   ]\n",
      " [  100.      400.     3600.     1600.     2500.     3600.     4900.     6400.        0.    10000.   ]\n",
      " [    1.       16.      324.      256.      625.     1296.     2401.     4096.        0.    10000.   ]\n",
      " [    2.        3.       16.        5.        6.        7.        8.        9.        0.       11.   ]\n",
      " [  784.     2704.    20736.     7744.    10000.    11664.    12544.    12544.        0.    10000.   ]\n",
      " [    1.        0.        4.        0.        1.        0.        1.        0.        0.        0.   ]\n",
      " [   64.       64.      256.       64.       64.       64.       64.       64.        0.       64.   ]\n",
      " [    1.        0.25      0.444     0.062     0.04      0.028     0.02      0.016     0.        0.01 ]\n",
      " [ 1764.     1764.     7056.     1764.     1764.     1764.     1764.     1764.        0.     1764.   ]]\n"
     ]
    }
   ],
   "source": [
    "ar1 = np.zeros((10,10))\n",
    "ar1[0] = np.arange(1, 11)\n",
    "ar1[1] = ar1[0]+1\n",
    "ar1[2] = ar1[0]*10\n",
    "ar1[3] = ar1[0]**2\n",
    "ar1[4] = np.sqrt(ar1[1])\n",
    "ar1[5] = 3*ar1[2]-2*ar1[3]\n",
    "ar1[6][::2] = 1\n",
    "ar1[7] = 8\n",
    "ar1[7, -1] = -8\n",
    "ar1[8] = ar1[0]**(-1)\n",
    "ar1[9] = 42\n",
    "print(ar1, \"\\n\")\n",
    "\n",
    "ar2 = ar1\n",
    "ar2[:,2] = ar2[:,2]*2\n",
    "ar2[:,-2] = 0\n",
    "print(ar2, \"\\n\")\n",
    "\n",
    "print(ar1*ar2)"
   ]
  },
  {
   "cell_type": "markdown",
   "metadata": {
    "id": "ZPZMymkGuTkC"
   },
   "source": [
    "In addition to the capabilities we've just gone through, arrays can do far more. For a full list, see http://docs.scipy.org/doc/numpy/reference/arrays.ndarray.html."
   ]
  },
  {
   "cell_type": "markdown",
   "metadata": {
    "id": "P04nNEDGwMLx"
   },
   "source": [
    "## Submission Instructions\n",
    "\n",
    "Before submitting any Jupyter notebook for grading, please follow the following steps\n",
    "\n",
    "**1) Hit the \"Restart the kernel run the whole notebook\" button.**\n",
    "\n",
    "Make sure the entire notebook runs from start to finish. If necessary, comment out any un-executable cells from the instructions portion of the lab so the whole notebook will execute in one go.\n",
    "\n",
    "**2) Save as PDF (easiest method is with File > Print... > Save as PDF).**\n",
    "\n",
    "**3) If applicable, make sure the names of all group members are in a markdown cell at the top of the file and submit the notebook through the Gradescope link. For this assignment, you should work individually, and thus should not have any group members (although please feel free to ask questions to your peers!)**\n",
    "\n",
    "For this assignment, please submit all three Jupyter notebooks as PDFs (along with Part 2 of Homework 00) to the same Gradescope link."
   ]
  },
  {
   "cell_type": "markdown",
   "metadata": {
    "id": "kH5JrXTSyE4Z"
   },
   "source": []
  }
 ],
 "metadata": {
  "anaconda-cloud": {},
  "colab": {
   "collapsed_sections": [
    "nlsI6XimuTil"
   ],
   "provenance": []
  },
  "kernelspec": {
   "display_name": "astr337",
   "language": "python",
   "name": "python3"
  },
  "language_info": {
   "codemirror_mode": {
    "name": "ipython",
    "version": 3
   },
   "file_extension": ".py",
   "mimetype": "text/x-python",
   "name": "python",
   "nbconvert_exporter": "python",
   "pygments_lexer": "ipython3",
   "version": "3.11.13"
  }
 },
 "nbformat": 4,
 "nbformat_minor": 0
}
