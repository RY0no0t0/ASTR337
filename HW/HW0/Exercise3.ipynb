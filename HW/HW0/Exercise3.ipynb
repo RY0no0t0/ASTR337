{
 "cells": [
  {
   "cell_type": "markdown",
   "metadata": {
    "colab_type": "text",
    "id": "YauUiLvnkfbE"
   },
   "source": [
    "# Functions Tutorial\n",
    "\n",
    "Contents\n",
    "1. Python Functions\n",
    "  * Basic functions\n",
    "  * Optional and default arguments\n",
    "2. Return Statements  "
   ]
  },
  {
   "cell_type": "markdown",
   "metadata": {
    "colab_type": "text",
    "id": "DwM1ae71kfbF"
   },
   "source": [
    "## 1. Python Functions\n",
    "\n",
    "### 1.1 Basic Functions"
   ]
  },
  {
   "cell_type": "markdown",
   "metadata": {
    "colab_type": "text",
    "id": "zl05f-9ckfbF"
   },
   "source": [
    "Python functions are useful for completing tasks that we'd like to do more than once (e.g. for different values of an input variable). A useful example is the sin function. There are many, many reasons why one might want to take the sin of something, so it is useful to define the sin function once and for all so that any program that needs to take the sin can do so, rather than having to come up with their own approximation of the sin using a Taylor expansion, etc.\n",
    "\n",
    "The capability that we are seeking is provided by defining new functions. This allows us to make our own functions that are just like the sin function, and can be called in a similar way. Functions are defined by the following syntax:"
   ]
  },
  {
   "cell_type": "code",
   "execution_count": 1,
   "metadata": {
    "colab": {},
    "colab_type": "code",
    "id": "92E6D45FkfbG"
   },
   "outputs": [],
   "source": [
    "def myfunc(arg1, arg2):\n",
    "    print(\"I am a function! Here are my arguments:\")\n",
    "    print(arg1)\n",
    "    print(arg2)\n",
    "    print(\"I am returning my first argument now!\")\n",
    "    return(arg1)"
   ]
  },
  {
   "cell_type": "markdown",
   "metadata": {
    "colab_type": "text",
    "id": "DwKzfIz8kfbJ"
   },
   "source": [
    "This defines a very simple function. Let's walk through this declaration step by step:\n",
    "The first line begins with def, then the name of the function, and then in parentheses a list of arguments for the function, then a colon. Arguments are inputs to the function. For example, the sin function takes an angle as an argument. In this example our function has two arguments. The number of arguments is arbitrary, and can be zero, in which case the parentheses are just left empty. It is also possible to write functions where the number of arguments is variable, and need not be the same every time the function is called, but we won't discuss that capability further in this short course.  \n",
    "\n",
    "After the define line, we begin the body of the function. Note that all the lines in the function body are indented. This indentation is IMPORTANT. In python, indentation is used to indicate that a particular line belongs to a particular function, loop, or other block of code. All the lines of the function are indented four spaces. If you're using entering this manually in ipython, either at the command line or in the notebook, you don't need to type in those four spaces by hand; the ipython shell will automatically enter them for you after seeing the def line. If you're using emacs as a text editor, you can just hit the tab key and the correct number of spaces will be entered for you.  \n",
    "\n",
    "Within the body of the function, we can enter whatever commands we like. We can print things, for example. The arguments in that appeared in parentheses in the definition are accessible within the function, and can be manipulated however we like.  \n",
    "\n",
    "At the end of the function, we have a statement that begins return. A return function causes the function to give back a value, which the calling program can print, assign to a variable, or do something else with. For example the sin function returns the sin of the input angle. Return values are optional: functions don't have to return anything, and can just end."
   ]
  },
  {
   "cell_type": "markdown",
   "metadata": {
    "colab_type": "text",
    "id": "zoKyWq2lkfbK"
   },
   "source": [
    "OK, with that in mind, let's try defining this function"
   ]
  },
  {
   "cell_type": "code",
   "execution_count": 2,
   "metadata": {
    "colab": {},
    "colab_type": "code",
    "id": "ETSerEzjkfbK"
   },
   "outputs": [],
   "source": [
    "def myfunc(arg1, arg2):\n",
    "    \"\"\"\n",
    "    This is a function that does nothing in particular\n",
    "    \"\"\"   \n",
    "    print(\"I am a function! Here are my arguments:\")\n",
    "    print(arg1)\n",
    "    print(arg2)\n",
    "    print(\"I am returning my first argument now!\")\n",
    "    return(arg1)"
   ]
  },
  {
   "cell_type": "markdown",
   "metadata": {
    "colab_type": "text",
    "id": "X6p3PHsKkfbN"
   },
   "source": [
    "When we enter that, nothing is printed out, but python now knows about this function. To demonstrate this, let's try calling it:"
   ]
  },
  {
   "cell_type": "code",
   "execution_count": 3,
   "metadata": {
    "colab": {},
    "colab_type": "code",
    "id": "uRot32TZkfbO"
   },
   "outputs": [
    {
     "name": "stdout",
     "output_type": "stream",
     "text": [
      "I am a function! Here are my arguments:\n",
      "1\n",
      "2\n",
      "I am returning my first argument now!\n"
     ]
    },
    {
     "data": {
      "text/plain": [
       "1"
      ]
     },
     "execution_count": 3,
     "metadata": {},
     "output_type": "execute_result"
    }
   ],
   "source": [
    "myfunc(1,2)"
   ]
  },
  {
   "cell_type": "markdown",
   "metadata": {
    "colab_type": "text",
    "id": "k_Dnf-rckfbR"
   },
   "source": [
    "### Sidebar - Docstrings\n",
    "Note two things about the formatting of the function.\n",
    "1. I included something called a \"docstring\" (denoted with the triple quotations at the start and end). This is a description of what the function does and is visible when call that function with a question mark (as below). Many companies (e.g. Google) have extensive rules about what should be included in a docstring. For example, [here](http://sphinxcontrib-napoleon.readthedocs.io/en/latest/example_google.html) is a sample Google docstring. Generally speaking, it should include a description of what the function does, some notes about the input and output, and specifics about any optional inputs (\"keywords\") and what they do. \n",
    "2. Spacing matters in python, and the code that actually defines the function is all indented by 4 spaces relative to the def line. "
   ]
  },
  {
   "cell_type": "code",
   "execution_count": 4,
   "metadata": {
    "colab": {},
    "colab_type": "code",
    "id": "sDngo0hKkfbR"
   },
   "outputs": [
    {
     "name": "stdout",
     "output_type": "stream",
     "text": [
      "\u001b[31mSignature:\u001b[39m myfunc(arg1, arg2)\n",
      "\u001b[31mDocstring:\u001b[39m This is a function that does nothing in particular\n",
      "\u001b[31mFile:\u001b[39m      /var/folders/mp/7xhn2jq112z6td9nlqyw8mvm0000gn/T/ipykernel_25620/2547868275.py\n",
      "\u001b[31mType:\u001b[39m      function"
     ]
    }
   ],
   "source": [
    "myfunc?"
   ]
  },
  {
   "cell_type": "markdown",
   "metadata": {
    "colab_type": "text",
    "id": "rS6fg1PokfbT"
   },
   "source": [
    "### Exercise 1\n",
    "\n",
    "-----------------------------\n",
    "\n",
    "Write a function called \"hellox\" that does the following.\n",
    "1. Takes an input variable (a name).\n",
    "2. Defines a string variable myname that is equal to your name.\n",
    "3. prints \"Hello input, my name is myname.\", where input and myname are described in 1 and 2\n",
    "4. returns nothing\n",
    "5. Has a simple docstring that describes what it does"
   ]
  },
  {
   "cell_type": "code",
   "execution_count": 18,
   "metadata": {
    "colab": {},
    "colab_type": "code",
    "id": "pdzrd-V1kfbU"
   },
   "outputs": [],
   "source": [
    "#function definition goes here\n",
    "def hellox(name):\n",
    "    \"\"\"\n",
    "    This function says hi to th user.\n",
    "    \"\"\"\n",
    "    myname = \"Ryogo\"\n",
    "    print(f\"Hello {name}, my name is {myname}.\")"
   ]
  },
  {
   "cell_type": "code",
   "execution_count": 19,
   "metadata": {
    "colab": {},
    "colab_type": "code",
    "id": "9p_pxIAbkfbX"
   },
   "outputs": [
    {
     "name": "stdout",
     "output_type": "stream",
     "text": [
      "Hello Rosee, my name is Ryogo.\n"
     ]
    }
   ],
   "source": [
    "#test statement goes here\n",
    "hellox(\"Rosee\")"
   ]
  },
  {
   "cell_type": "markdown",
   "metadata": {
    "colab_type": "text",
    "id": "eYkQk1d2kfbZ"
   },
   "source": [
    "### 1.2 Optional and default arguments\n",
    "\n",
    "Functions we define have to be called with the right number of arguments, where \"right\" means \"however many arguments the function says it wants\". Let's see what happens if we fail to do this:"
   ]
  },
  {
   "cell_type": "code",
   "execution_count": 11,
   "metadata": {
    "colab": {},
    "colab_type": "code",
    "id": "x5KxgsUykfbZ"
   },
   "outputs": [],
   "source": [
    "# myfunc()"
   ]
  },
  {
   "cell_type": "markdown",
   "metadata": {
    "colab_type": "text",
    "id": "one9Rz68kfbc"
   },
   "source": [
    "We get an error message. Sometimes, however, it is convenient to have arguments that are optional. They can be set if a user wants, but they don't have to be. We define optional arguments (sometimes called \"keywords\") by giving them names and assigning default values in the argument list. Here's an example."
   ]
  },
  {
   "cell_type": "code",
   "execution_count": 12,
   "metadata": {
    "colab": {},
    "colab_type": "code",
    "id": "mBC1zprNkfbc"
   },
   "outputs": [],
   "source": [
    "def myfunc2(arg1, arg2='cheese', arg3='sandwich'):\n",
    "    print(\"I take one mandatory argument, and two optional ones.\")\n",
    "    print(\"The mandatory argument is:\")\n",
    "    print(arg1)\n",
    "    print(\"The optional arguments are:\")\n",
    "    print(arg2)\n",
    "    print(arg3)"
   ]
  },
  {
   "cell_type": "markdown",
   "metadata": {
    "colab_type": "text",
    "id": "RFKsrJm4kfbf"
   },
   "source": [
    "In this definition, the argument arg1 is required, and is not given a default value. In contrast, the arguments arg2 and arg3 are optional, and are given defaults. If this function is called without arg2 or arg3 being set, they will be assigned to the default value indicated.\n",
    "\n",
    "Let's reload the module again so that we import this new definition, then experiment with this new capability:"
   ]
  },
  {
   "cell_type": "code",
   "execution_count": 13,
   "metadata": {
    "colab": {},
    "colab_type": "code",
    "id": "2jIP7RM7kfbf"
   },
   "outputs": [
    {
     "name": "stdout",
     "output_type": "stream",
     "text": [
      "I take one mandatory argument, and two optional ones.\n",
      "The mandatory argument is:\n",
      "1\n",
      "The optional arguments are:\n",
      "cheese\n",
      "sandwich\n"
     ]
    }
   ],
   "source": [
    "myfunc2(1)"
   ]
  },
  {
   "cell_type": "code",
   "execution_count": 14,
   "metadata": {
    "colab": {},
    "colab_type": "code",
    "id": "NBzEehArkfbh"
   },
   "outputs": [
    {
     "name": "stdout",
     "output_type": "stream",
     "text": [
      "I take one mandatory argument, and two optional ones.\n",
      "The mandatory argument is:\n",
      "1\n",
      "The optional arguments are:\n",
      "cheese\n",
      "burger\n"
     ]
    }
   ],
   "source": [
    "myfunc2(1, arg3='burger')"
   ]
  },
  {
   "cell_type": "code",
   "execution_count": 15,
   "metadata": {
    "colab": {},
    "colab_type": "code",
    "id": "relNjVWukfbj"
   },
   "outputs": [
    {
     "name": "stdout",
     "output_type": "stream",
     "text": [
      "I take one mandatory argument, and two optional ones.\n",
      "The mandatory argument is:\n",
      "1\n",
      "The optional arguments are:\n",
      "ham\n",
      "sandwich\n"
     ]
    }
   ],
   "source": [
    "myfunc2(1, arg2='ham')"
   ]
  },
  {
   "cell_type": "code",
   "execution_count": 16,
   "metadata": {
    "colab": {},
    "colab_type": "code",
    "id": "HwhrQrA7kfbm"
   },
   "outputs": [
    {
     "name": "stdout",
     "output_type": "stream",
     "text": [
      "I take one mandatory argument, and two optional ones.\n",
      "The mandatory argument is:\n",
      "1\n",
      "The optional arguments are:\n",
      "peanut butter\n",
      "sandwich\n"
     ]
    }
   ],
   "source": [
    "myfunc2(1, 'peanut butter')"
   ]
  },
  {
   "cell_type": "markdown",
   "metadata": {
    "colab_type": "text",
    "id": "2VfC1q5Ukfbo"
   },
   "source": [
    "Here we see that optional arguments can be handled several ways when calling a function. First, we can just give the mandatory argument and skip the optional ones, in which case they get their default values. Second, we can call specify one or more of the optional arguments by name, and use the equal sign to specify the value we want it to have. Third, we can give more than just the mandatory number of arguments, but not specify names. In this case, the first extra argument (beyond the mandatory ones) is assumed to correspond to the the first optional argument, the second extra argument to the second optional one, etc.\n",
    "\n",
    "In some cases we want an argument to be option and NOT to have a default value. If it is not set, we want nothing to be assigned. Fortunately, python provides a way to do this. Variables can be set to the special value None, which indicates that the variable has not been assigned to anything. We can always make the default value be None, for example\n",
    "\n",
    "`def mfunc2(arg1, arg2='cheese', arg3=None):`"
   ]
  },
  {
   "cell_type": "markdown",
   "metadata": {
    "colab_type": "text",
    "id": "vq5HAnDekfbo"
   },
   "source": [
    "### Exercise 2\n",
    "\n",
    "-----------------------------\n",
    "\n",
    "Copy your original hellox function from Exercise 1 into a new function called hellox_new.\n",
    "1. Modify it to include an optional argument called mood, with a default value \"grumpy\".  \n",
    "2. Change the print statement to \"Hello *input*, my name is *myname* and today I'm feeling *mood*\"\n",
    "3. Modify your docstring as necessary\n"
   ]
  },
  {
   "cell_type": "code",
   "execution_count": 20,
   "metadata": {
    "colab": {},
    "colab_type": "code",
    "id": "GSEeNvUMkfbp"
   },
   "outputs": [],
   "source": [
    "#function definition goes here\n",
    "def hellox_new(name, mood=\"grumpy\"):\n",
    "    \"\"\"\n",
    "    This function says hi to the user with its mood today\n",
    "    \"\"\"\n",
    "    myname = \"Ryogo\"\n",
    "    print(f\"Hello {name}, my name is {myname} and today I'm feeling {mood}.\")"
   ]
  },
  {
   "cell_type": "code",
   "execution_count": 24,
   "metadata": {
    "colab": {},
    "colab_type": "code",
    "id": "OMf9aD97kfbs"
   },
   "outputs": [
    {
     "name": "stdout",
     "output_type": "stream",
     "text": [
      "Hello Makima, my name is Ryogo and today I'm feeling amazibg.\n"
     ]
    }
   ],
   "source": [
    "#test statements go here\n",
    "hellox_new(\"Makima\", \"amazibg\")"
   ]
  },
  {
   "cell_type": "markdown",
   "metadata": {
    "colab_type": "text",
    "id": "_VwQLRUVkfbu"
   },
   "source": [
    "# 2. Return Statements\n",
    "\n",
    "Thus far we've not paid much attention to function return statements. Indeed, you don't HAVE to have a return statement at the end of a function. For example:"
   ]
  },
  {
   "cell_type": "code",
   "execution_count": 25,
   "metadata": {
    "colab": {},
    "colab_type": "code",
    "id": "Hsiqq7trkfbu"
   },
   "outputs": [],
   "source": [
    "def dummy_func(x=0, y=0):\n",
    "    \"\"\"This function takes two optional arguments (x and y) with default values of zero and adds them together \n",
    "    to create a new variable z, then prints it.\"\"\"\n",
    "    x\n",
    "    y\n",
    "    z=x+y\n",
    "    z"
   ]
  },
  {
   "cell_type": "code",
   "execution_count": 26,
   "metadata": {
    "colab": {},
    "colab_type": "code",
    "id": "C5H5Wy3akfby"
   },
   "outputs": [],
   "source": [
    "dummy_func()"
   ]
  },
  {
   "cell_type": "markdown",
   "metadata": {
    "colab_type": "text",
    "id": "KIwli92ukfb0"
   },
   "source": [
    "Note first that the function did not print out x, y and z, even though typing the variable name alone usually prints the value stored in it when you type just the variable in an ordinary Jupyter notebook cell. That's not the case with functions. If you want to print something you have to tell it to print. For example:"
   ]
  },
  {
   "cell_type": "code",
   "execution_count": 27,
   "metadata": {
    "colab": {},
    "colab_type": "code",
    "id": "2oTPHxhDkfb0"
   },
   "outputs": [],
   "source": [
    "def dummy_func(x=0, y=0):\n",
    "    \"\"\"This function takes two optional arguments (x and y) with default values of zero and adds them together \n",
    "    to create a new variable z, then prints it.\"\"\"\n",
    "    print(\"x is\", x)\n",
    "    print(\"y is\", y)\n",
    "    z=x+y\n",
    "    print(\"z is\", z)"
   ]
  },
  {
   "cell_type": "code",
   "execution_count": 28,
   "metadata": {
    "colab": {},
    "colab_type": "code",
    "id": "CrimVxaHkfb2"
   },
   "outputs": [
    {
     "name": "stdout",
     "output_type": "stream",
     "text": [
      "x is 2\n",
      "y is 3\n",
      "z is 5\n"
     ]
    }
   ],
   "source": [
    "dummy_func(2,3)"
   ]
  },
  {
   "cell_type": "markdown",
   "metadata": {
    "colab_type": "text",
    "id": "1I08Z28Okfb9"
   },
   "source": [
    "This brings up another subtlety that it's worth reemphasizing here - optional arguments can be specified in a function call in any order ***but*** if you don't tell it which variable you mean in the function call, it will assume that you are specifying them in order. For example, as I've written the function, you should be able to specify none, one or two arguments in any order. Make sure you understand what each of the following cells are doing before moving on"
   ]
  },
  {
   "cell_type": "code",
   "execution_count": 29,
   "metadata": {
    "colab": {},
    "colab_type": "code",
    "id": "gpR9cvuEkfb9"
   },
   "outputs": [
    {
     "name": "stdout",
     "output_type": "stream",
     "text": [
      "x is 1\n",
      "y is 0\n",
      "z is 1\n"
     ]
    }
   ],
   "source": [
    "dummy_func(1)"
   ]
  },
  {
   "cell_type": "code",
   "execution_count": 30,
   "metadata": {
    "colab": {},
    "colab_type": "code",
    "id": "jp60gkuNkfb_"
   },
   "outputs": [
    {
     "name": "stdout",
     "output_type": "stream",
     "text": [
      "x is 0\n",
      "y is 1\n",
      "z is 1\n"
     ]
    }
   ],
   "source": [
    "dummy_func(y=1)"
   ]
  },
  {
   "cell_type": "code",
   "execution_count": 31,
   "metadata": {
    "colab": {},
    "colab_type": "code",
    "id": "GAjvAE9nkfcD"
   },
   "outputs": [
    {
     "name": "stdout",
     "output_type": "stream",
     "text": [
      "x is 2\n",
      "y is 3\n",
      "z is 5\n"
     ]
    }
   ],
   "source": [
    "dummy_func(y=3,x=2)"
   ]
  },
  {
   "cell_type": "code",
   "execution_count": 32,
   "metadata": {
    "colab": {},
    "colab_type": "code",
    "id": "xxl05DzDkfcF"
   },
   "outputs": [
    {
     "name": "stdout",
     "output_type": "stream",
     "text": [
      "x is 3\n",
      "y is 2\n",
      "z is 5\n"
     ]
    }
   ],
   "source": [
    "dummy_func(3,2)"
   ]
  },
  {
   "cell_type": "markdown",
   "metadata": {
    "colab_type": "text",
    "id": "YC6E7bQXkfcI"
   },
   "source": [
    "Back to the function dummy_func. Note that we did not include a return statement in the definition cell. A return statement is not necessary to delimit the end of a function. In fact, a function will consist of any code that is indented beneath it. If you remove the indentation, any code that you write is no longer considered part of the function. For example:"
   ]
  },
  {
   "cell_type": "code",
   "execution_count": 33,
   "metadata": {
    "colab": {},
    "colab_type": "code",
    "id": "zPUm93nekfcI"
   },
   "outputs": [
    {
     "name": "stdout",
     "output_type": "stream",
     "text": [
      "This is not part of the function and will not be printed when I call it. It will print when I execute this cell\n"
     ]
    }
   ],
   "source": [
    "def dummy_func(x=0, y=0):\n",
    "    \"\"\"This function takes two optional arguments (x and y) with default values of zero and adds them together \n",
    "    to create a new variable z, then prints it.\"\"\"\n",
    "    print(\"x is\", x)\n",
    "    print(\"y is\", y)\n",
    "    z=x+y\n",
    "    print(\"z is\", z)\n",
    "\n",
    "print('This is not part of the function and will not be printed when I call it. It will print when I execute this cell')"
   ]
  },
  {
   "cell_type": "code",
   "execution_count": 34,
   "metadata": {
    "colab": {},
    "colab_type": "code",
    "id": "UO9KNhzMkfcL"
   },
   "outputs": [
    {
     "name": "stdout",
     "output_type": "stream",
     "text": [
      "x is 0\n",
      "y is 0\n",
      "z is 0\n"
     ]
    }
   ],
   "source": [
    "dummy_func()"
   ]
  },
  {
   "cell_type": "markdown",
   "metadata": {
    "colab_type": "text",
    "id": "eASad0YnkfcN"
   },
   "source": [
    "The main purpose of return statements is to return calculated values, arrays, etc. to the user so that they can be referenced in future code cells. So far our code has mostly involved printing things, but sometimes we want to use and manupulate the output of a function and so it needs to be passed back to the user. For example:"
   ]
  },
  {
   "cell_type": "code",
   "execution_count": 35,
   "metadata": {
    "colab": {},
    "colab_type": "code",
    "id": "E4lE_I3QkfcN"
   },
   "outputs": [],
   "source": [
    "def dummy_func(x=0, y=0):\n",
    "    \"\"\"This function takes two optional arguments (x and y) with default values of zero and adds them together \n",
    "    to create a new variable z, then prints it.\"\"\"\n",
    "    print(\"x is\", x)\n",
    "    print(\"y is\", y)\n",
    "    z=x+y\n",
    "    print(\"z is\", z)\n",
    "    return z"
   ]
  },
  {
   "cell_type": "code",
   "execution_count": 36,
   "metadata": {
    "colab": {},
    "colab_type": "code",
    "id": "P0_syRvIkfcQ"
   },
   "outputs": [
    {
     "name": "stdout",
     "output_type": "stream",
     "text": [
      "x is 0\n",
      "y is 0\n",
      "z is 0\n"
     ]
    },
    {
     "data": {
      "text/plain": [
       "0"
      ]
     },
     "execution_count": 36,
     "metadata": {},
     "output_type": "execute_result"
    }
   ],
   "source": [
    "dummy_func()"
   ]
  },
  {
   "cell_type": "markdown",
   "metadata": {
    "colab_type": "text",
    "id": "N9AeSVDakfcS"
   },
   "source": [
    "Note in executing the cell above, you now have output (0 in this case). Nice, but stil not that useful for manipulating. The function returns z as output, but does not store anything in a variable called z. So even though you defined z within the function and returned it, python will not recognize the variable. You can see this by executing the cell below, which will return an error. "
   ]
  },
  {
   "cell_type": "code",
   "execution_count": 38,
   "metadata": {
    "colab": {},
    "colab_type": "code",
    "id": "DFPHwFZUkfcT"
   },
   "outputs": [],
   "source": [
    "# z"
   ]
  },
  {
   "cell_type": "markdown",
   "metadata": {
    "colab_type": "text",
    "id": "CdjrhZYJkfcW"
   },
   "source": [
    "This is an important higher-order thing to note about functions - variables only have meaning ***within*** them, not outside them. If I want the function to return whatever I've told it to return (z) ***and*** store it in a variable, I have to tell it so via the following syntax:"
   ]
  },
  {
   "cell_type": "code",
   "execution_count": 39,
   "metadata": {
    "colab": {},
    "colab_type": "code",
    "id": "DCKsGSV6kfcX"
   },
   "outputs": [
    {
     "name": "stdout",
     "output_type": "stream",
     "text": [
      "x is 0\n",
      "y is 0\n",
      "z is 0\n"
     ]
    }
   ],
   "source": [
    "z = dummy_func()"
   ]
  },
  {
   "cell_type": "markdown",
   "metadata": {
    "colab_type": "text",
    "id": "e4apwvapkfcZ"
   },
   "source": [
    "This time, I've told python that it should take the output of dummy_func and store it in the variable z. \n",
    "\n",
    "Functions can return arbitrary numbers of things as well"
   ]
  },
  {
   "cell_type": "code",
   "execution_count": 40,
   "metadata": {
    "colab": {},
    "colab_type": "code",
    "id": "W_pgwXzjkfcZ"
   },
   "outputs": [],
   "source": [
    "def dummy_func(x=0, y=0):\n",
    "    \"\"\"This function takes two optional arguments (x and y) with default values of zero and adds them together \n",
    "    to create a new variable z, then prints it.\"\"\"\n",
    "    print(\"x is\", x)\n",
    "    print(\"y is\", y)\n",
    "    z=x+y\n",
    "    print(\"z is\", z)\n",
    "    return x, y, z"
   ]
  },
  {
   "cell_type": "code",
   "execution_count": 41,
   "metadata": {
    "colab": {},
    "colab_type": "code",
    "id": "xI7nwppjkfcb"
   },
   "outputs": [
    {
     "name": "stdout",
     "output_type": "stream",
     "text": [
      "x is 0\n",
      "y is 0\n",
      "z is 0\n"
     ]
    },
    {
     "data": {
      "text/plain": [
       "(0, 0, 0)"
      ]
     },
     "execution_count": 41,
     "metadata": {},
     "output_type": "execute_result"
    }
   ],
   "source": [
    "dummy_func()"
   ]
  },
  {
   "cell_type": "markdown",
   "metadata": {
    "colab_type": "text",
    "id": "4qkmJ4-2kfce"
   },
   "source": [
    "And when you want to assign them to variables, you use a similar syntax, though it seems a bit funny. "
   ]
  },
  {
   "cell_type": "code",
   "execution_count": 42,
   "metadata": {
    "colab": {},
    "colab_type": "code",
    "id": "QGZuuSVAkfce"
   },
   "outputs": [
    {
     "name": "stdout",
     "output_type": "stream",
     "text": [
      "x is 0\n",
      "y is 0\n",
      "z is 0\n"
     ]
    }
   ],
   "source": [
    "x, y, z = dummy_func()"
   ]
  },
  {
   "cell_type": "code",
   "execution_count": 43,
   "metadata": {
    "colab": {},
    "colab_type": "code",
    "id": "sEJ5u4Rwkfcg"
   },
   "outputs": [
    {
     "data": {
      "text/plain": [
       "0"
      ]
     },
     "execution_count": 43,
     "metadata": {},
     "output_type": "execute_result"
    }
   ],
   "source": [
    "x"
   ]
  },
  {
   "cell_type": "code",
   "execution_count": 44,
   "metadata": {
    "colab": {},
    "colab_type": "code",
    "id": "XxE21NPykfci"
   },
   "outputs": [
    {
     "data": {
      "text/plain": [
       "0"
      ]
     },
     "execution_count": 44,
     "metadata": {},
     "output_type": "execute_result"
    }
   ],
   "source": [
    "y"
   ]
  },
  {
   "cell_type": "code",
   "execution_count": 45,
   "metadata": {
    "colab": {},
    "colab_type": "code",
    "id": "xRYO1pEekfck"
   },
   "outputs": [
    {
     "data": {
      "text/plain": [
       "0"
      ]
     },
     "execution_count": 45,
     "metadata": {},
     "output_type": "execute_result"
    }
   ],
   "source": [
    "z"
   ]
  },
  {
   "cell_type": "markdown",
   "metadata": {
    "colab_type": "text",
    "id": "mGDxp6gfkfcm"
   },
   "source": [
    "Note that when you define a function with multiple return variables and you assign those returned variables into stored variables with = you ***must have an equal number of assigned variables as returned variables***. For example, the following will return an error. "
   ]
  },
  {
   "cell_type": "code",
   "execution_count": 47,
   "metadata": {
    "colab": {},
    "colab_type": "code",
    "id": "IQbKYQOIkfcm"
   },
   "outputs": [],
   "source": [
    "# x, y = dummy_func()"
   ]
  },
  {
   "cell_type": "markdown",
   "metadata": {
    "colab_type": "text",
    "id": "CblzWM44kfcp"
   },
   "source": [
    "### Exercise 3\n",
    "\n",
    "-----------------------------\n",
    "\n",
    "Write a function that will take an input mass in grams and will return that mass in solar masses. Don't forget to properly document your code!"
   ]
  },
  {
   "cell_type": "code",
   "execution_count": 48,
   "metadata": {
    "colab": {},
    "colab_type": "code",
    "id": "a58XF8bQkfcp"
   },
   "outputs": [],
   "source": [
    "#function definition goes here\n",
    "def convert_mass(m):\n",
    "    \"\"\"\n",
    "    This function takes a value for mass in grams and returns the mass in solar mass.\n",
    "    \"\"\"\n",
    "    return m/(1.989*10**33)"
   ]
  },
  {
   "cell_type": "code",
   "execution_count": 49,
   "metadata": {
    "colab": {},
    "colab_type": "code",
    "id": "jAj_6R7Akfct"
   },
   "outputs": [
    {
     "data": {
      "text/plain": [
       "0.17596782302664654"
      ]
     },
     "execution_count": 49,
     "metadata": {},
     "output_type": "execute_result"
    }
   ],
   "source": [
    "#test statement goes here\n",
    "convert_mass(3.5*10**32)"
   ]
  },
  {
   "cell_type": "markdown",
   "metadata": {
    "colab": {},
    "colab_type": "code",
    "id": "Cl9WxwXwABAd"
   },
   "source": [
    "## Submission Instructions\n",
    "\n",
    "Before submitting any Jupyter notebook for grading, please follow the following steps\n",
    "\n",
    "**1) Hit the \"Restart the kernel run the whole notebook\" button.**\n",
    "\n",
    "Make sure the entire notebook runs from start to finish. If necessary, comment out any un-executable cells from the instructions portion of the lab so the whole notebook will execute in one go. \n",
    "\n",
    "**2) Save as PDF (easiest method is with File > Print... > Save as PDF).**\n",
    "\n",
    "**3) If applicable, make sure the names of all group members are in a markdown cell at the top of the file and submit the notebook through the Gradescope link. For this assignment, you should work individually, and thus should not have any group members (although please feel free to ask questions to your peers!)**\n",
    "\n",
    "For this assignment, please submit all three Jupyter notebooks as PDFs (along with Part 2 of Homework 00) to the same Gradescope link."
   ]
  },
  {
   "cell_type": "code",
   "execution_count": null,
   "metadata": {},
   "outputs": [],
   "source": []
  }
 ],
 "metadata": {
  "anaconda-cloud": {},
  "colab": {
   "collapsed_sections": [],
   "name": "Functions Tutorial.ipynb",
   "provenance": []
  },
  "kernelspec": {
   "display_name": "astr337",
   "language": "python",
   "name": "python3"
  },
  "language_info": {
   "codemirror_mode": {
    "name": "ipython",
    "version": 3
   },
   "file_extension": ".py",
   "mimetype": "text/x-python",
   "name": "python",
   "nbconvert_exporter": "python",
   "pygments_lexer": "ipython3",
   "version": "3.11.13"
  }
 },
 "nbformat": 4,
 "nbformat_minor": 4
}
