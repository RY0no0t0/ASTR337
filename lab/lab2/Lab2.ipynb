{
 "cells": [
  {
   "cell_type": "markdown",
   "metadata": {
    "id": "a1pL5eG1kxX5"
   },
   "source": [
    "# ASTR 337 In-Class Lab #2\n",
    "### Wednesday, September 10, 2025\n",
    "\n",
    "### _Names:_ Baz, Ryogo\n",
    "\n",
    "***\n",
    "\n",
    "In this lab, you will (1) work directly with published astronomical data from the _VizieR_ database, (2) continue using pandas and matplotlib to read, manipulate, and plot datasets, and (3) gain experience writing functions.\n",
    "\n",
    "On the science end, you will create color-magnitude diagrams -- the observer's H-R diagram -- for various stellar populations, compare the clusters, and relate these to the results from last week."
   ]
  },
  {
   "cell_type": "code",
   "execution_count": 9,
   "metadata": {
    "id": "pVvuErI3kxX7"
   },
   "outputs": [],
   "source": [
    "# Load packages\n",
    "import pandas as pd\n",
    "import numpy as np\n",
    "import matplotlib.pyplot as plt\n",
    "%matplotlib inline"
   ]
  },
  {
   "cell_type": "markdown",
   "metadata": {
    "id": "1sFAgG_7kxYB"
   },
   "source": [
    "### Downloading Data from Online Databases\n",
    "\n",
    "The first step is to download the datasets we need from VizieR for the following clusters:\n",
    "* M22 (globular cluster) -- _BVI photometry of M22_ (Use chip 2. Monaco+, 2004, J/MNRAS/349/1278) -- **we downloaded this one together as a class already**  \n",
    "\n",
    "\n",
    "* M4 (globular cluster) -- _M4 UBV color-magnitude diagrams_ (Mochejska+, 2002, J/AJ/124/1486) -- download the one entitled \"Astrometry and UBV photometry for 12121 stars in M4 (12121 rows)\"  \n",
    "\n",
    "\n",
    "* M67 (open cluster) -- _BVI photometry in M67_ (Stassun+, 2002, J/A+A/382/899) -- download the one entitled, \"BVI photometry for all sources included in study (989 rows)\"  \n",
    "\n",
    "\n",
    "* NGC 188 (open cluster) A star catalog for the open cluster NGC 188_ (Stetson+, 2004, J/PASP/116/1012) -- download the one entitled \"Original photometry merged with previously published photometry and memberships (8012 rows)\"\n",
    "\n",
    "**Place all of these data in the same location as your notebook.**"
   ]
  },
  {
   "cell_type": "markdown",
   "metadata": {
    "id": "ZCLNqDG7kxYB"
   },
   "source": [
    "First, we'll need to read the datasets into pandas, as we did in last week's lab. However, VizieR gives us more information than just the raw data to look at, so we'll need to give pd.read_csv additional information so it can parse each datafile.\n",
    "\n",
    "Let's first look at the actual M22 datafile by opening the file in VS Code. Take a look at the contents of the file, then come back to this notebook.\n",
    "\n"
   ]
  },
  {
   "cell_type": "markdown",
   "metadata": {
    "id": "Tnz--A3ikxYC"
   },
   "source": [
    "## Questions:\n",
    "\n",
    "<p>1) What information is contained in the header?</p>\n",
    "- (your answer here)\n",
    "\t#\n",
    "41\t_RAJ2000;_DEJ2000;MPF;Bmag;e_Bmag;Vmag;e_Vmag;Imag;e_Imag;xpos;ypos;RAdeg;DEdeg\n",
    "<p>2) How many commented \"#\" lines are there before the dataset begins? (see the line numbers)</p>\n",
    "- (your answer here)\n",
    "40 but one is blank"
   ]
  },
  {
   "cell_type": "markdown",
   "metadata": {
    "id": "HgvHQ5lVkxYC"
   },
   "source": [
    "## Loading in your data\n",
    "As useful as the header information is for us, pandas only needs to know where the data values start and what the column headers are.\n",
    "\n",
    "To help pandas parse the data easily, **edit** the text file in the text editor to add the '#' symbol at the beginnings of the two rows describing the column units and dashed lines.\n",
    "\n",
    "We will now tell pandas to skip any commented rows and that the file is semicolon delimited by adding parameters called _arguments_ to the read_csv function, separated by commas:\n",
    "* comment = '#'\n",
    "* delimiter = ';'\n",
    "\n",
    "**EDIT** the cell below to read in the M22.tsv file and add these two arguments to the regular pd.read_csv command, then run the cell to read in the file."
   ]
  },
  {
   "cell_type": "code",
   "execution_count": 10,
   "metadata": {
    "id": "v1v4vLANdfkz"
   },
   "outputs": [],
   "source": [
    "m22 = pd.read_csv(\"m22.tsv\" , comment= '#' , delimiter= ';')"
   ]
  },
  {
   "cell_type": "markdown",
   "metadata": {
    "id": "SfsaNLDtkxYb"
   },
   "source": [
    "As before, we would like to check the table and its contents:"
   ]
  },
  {
   "cell_type": "code",
   "execution_count": 11,
   "metadata": {
    "id": "c9HBOqFakxYm"
   },
   "outputs": [
    {
     "data": {
      "text/html": [
       "<div>\n",
       "<style scoped>\n",
       "    .dataframe tbody tr th:only-of-type {\n",
       "        vertical-align: middle;\n",
       "    }\n",
       "\n",
       "    .dataframe tbody tr th {\n",
       "        vertical-align: top;\n",
       "    }\n",
       "\n",
       "    .dataframe thead th {\n",
       "        text-align: right;\n",
       "    }\n",
       "</style>\n",
       "<table border=\"1\" class=\"dataframe\">\n",
       "  <thead>\n",
       "    <tr style=\"text-align: right;\">\n",
       "      <th></th>\n",
       "      <th>_RAJ2000</th>\n",
       "      <th>_DEJ2000</th>\n",
       "      <th>MPF</th>\n",
       "      <th>Bmag</th>\n",
       "      <th>e_Bmag</th>\n",
       "      <th>Vmag</th>\n",
       "      <th>e_Vmag</th>\n",
       "      <th>Imag</th>\n",
       "      <th>e_Imag</th>\n",
       "      <th>xpos</th>\n",
       "      <th>ypos</th>\n",
       "      <th>RAdeg</th>\n",
       "      <th>DEdeg</th>\n",
       "    </tr>\n",
       "  </thead>\n",
       "  <tbody>\n",
       "    <tr>\n",
       "      <th>0</th>\n",
       "      <td>279.116359</td>\n",
       "      <td>-23.920319</td>\n",
       "      <td>1</td>\n",
       "      <td>12.071</td>\n",
       "      <td>0.010</td>\n",
       "      <td>10.351</td>\n",
       "      <td>0.010</td>\n",
       "      <td>8.544</td>\n",
       "      <td>0.125</td>\n",
       "      <td>806.273</td>\n",
       "      <td>1876.142</td>\n",
       "      <td>279.116359</td>\n",
       "      <td>-23.920319</td>\n",
       "    </tr>\n",
       "    <tr>\n",
       "      <th>1</th>\n",
       "      <td>279.043587</td>\n",
       "      <td>-23.774296</td>\n",
       "      <td>2</td>\n",
       "      <td>10.854</td>\n",
       "      <td>0.011</td>\n",
       "      <td>10.483</td>\n",
       "      <td>0.011</td>\n",
       "      <td>9.938</td>\n",
       "      <td>0.014</td>\n",
       "      <td>1808.769</td>\n",
       "      <td>4086.802</td>\n",
       "      <td>279.043587</td>\n",
       "      <td>-23.774296</td>\n",
       "    </tr>\n",
       "    <tr>\n",
       "      <th>2</th>\n",
       "      <td>279.086291</td>\n",
       "      <td>-23.924123</td>\n",
       "      <td>3</td>\n",
       "      <td>12.632</td>\n",
       "      <td>0.010</td>\n",
       "      <td>10.836</td>\n",
       "      <td>0.010</td>\n",
       "      <td>8.926</td>\n",
       "      <td>0.016</td>\n",
       "      <td>1221.985</td>\n",
       "      <td>1819.724</td>\n",
       "      <td>279.086291</td>\n",
       "      <td>-23.924123</td>\n",
       "    </tr>\n",
       "    <tr>\n",
       "      <th>3</th>\n",
       "      <td>279.044001</td>\n",
       "      <td>-23.916703</td>\n",
       "      <td>4</td>\n",
       "      <td>12.708</td>\n",
       "      <td>0.010</td>\n",
       "      <td>10.885</td>\n",
       "      <td>0.011</td>\n",
       "      <td>8.937</td>\n",
       "      <td>0.019</td>\n",
       "      <td>1806.331</td>\n",
       "      <td>1933.347</td>\n",
       "      <td>279.044001</td>\n",
       "      <td>-23.916703</td>\n",
       "    </tr>\n",
       "    <tr>\n",
       "      <th>4</th>\n",
       "      <td>279.171046</td>\n",
       "      <td>-23.971967</td>\n",
       "      <td>5</td>\n",
       "      <td>12.794</td>\n",
       "      <td>0.010</td>\n",
       "      <td>10.942</td>\n",
       "      <td>0.010</td>\n",
       "      <td>8.980</td>\n",
       "      <td>0.016</td>\n",
       "      <td>52.285</td>\n",
       "      <td>1092.889</td>\n",
       "      <td>279.171046</td>\n",
       "      <td>-23.971967</td>\n",
       "    </tr>\n",
       "    <tr>\n",
       "      <th>...</th>\n",
       "      <td>...</td>\n",
       "      <td>...</td>\n",
       "      <td>...</td>\n",
       "      <td>...</td>\n",
       "      <td>...</td>\n",
       "      <td>...</td>\n",
       "      <td>...</td>\n",
       "      <td>...</td>\n",
       "      <td>...</td>\n",
       "      <td>...</td>\n",
       "      <td>...</td>\n",
       "      <td>...</td>\n",
       "      <td>...</td>\n",
       "    </tr>\n",
       "    <tr>\n",
       "      <th>33780</th>\n",
       "      <td>279.155864</td>\n",
       "      <td>-23.835252</td>\n",
       "      <td>33781</td>\n",
       "      <td>0.000</td>\n",
       "      <td>0.000</td>\n",
       "      <td>23.094</td>\n",
       "      <td>0.427</td>\n",
       "      <td>20.522</td>\n",
       "      <td>0.097</td>\n",
       "      <td>257.239</td>\n",
       "      <td>3160.910</td>\n",
       "      <td>279.155864</td>\n",
       "      <td>-23.835252</td>\n",
       "    </tr>\n",
       "    <tr>\n",
       "      <th>33781</th>\n",
       "      <td>279.089015</td>\n",
       "      <td>-23.798800</td>\n",
       "      <td>33782</td>\n",
       "      <td>0.000</td>\n",
       "      <td>0.000</td>\n",
       "      <td>23.106</td>\n",
       "      <td>0.374</td>\n",
       "      <td>20.576</td>\n",
       "      <td>0.071</td>\n",
       "      <td>1180.838</td>\n",
       "      <td>3714.734</td>\n",
       "      <td>279.089015</td>\n",
       "      <td>-23.798800</td>\n",
       "    </tr>\n",
       "    <tr>\n",
       "      <th>33782</th>\n",
       "      <td>279.046927</td>\n",
       "      <td>-23.938098</td>\n",
       "      <td>33783</td>\n",
       "      <td>0.000</td>\n",
       "      <td>0.000</td>\n",
       "      <td>23.188</td>\n",
       "      <td>0.474</td>\n",
       "      <td>20.861</td>\n",
       "      <td>0.196</td>\n",
       "      <td>1766.394</td>\n",
       "      <td>1609.729</td>\n",
       "      <td>279.046927</td>\n",
       "      <td>-23.938098</td>\n",
       "    </tr>\n",
       "    <tr>\n",
       "      <th>33783</th>\n",
       "      <td>279.039096</td>\n",
       "      <td>-23.855536</td>\n",
       "      <td>33784</td>\n",
       "      <td>0.000</td>\n",
       "      <td>0.000</td>\n",
       "      <td>23.190</td>\n",
       "      <td>0.473</td>\n",
       "      <td>20.492</td>\n",
       "      <td>0.112</td>\n",
       "      <td>1872.753</td>\n",
       "      <td>2858.444</td>\n",
       "      <td>279.039096</td>\n",
       "      <td>-23.855536</td>\n",
       "    </tr>\n",
       "    <tr>\n",
       "      <th>33784</th>\n",
       "      <td>279.073305</td>\n",
       "      <td>-23.991285</td>\n",
       "      <td>33785</td>\n",
       "      <td>0.000</td>\n",
       "      <td>0.000</td>\n",
       "      <td>23.406</td>\n",
       "      <td>0.469</td>\n",
       "      <td>20.502</td>\n",
       "      <td>0.055</td>\n",
       "      <td>1403.247</td>\n",
       "      <td>804.582</td>\n",
       "      <td>279.073305</td>\n",
       "      <td>-23.991285</td>\n",
       "    </tr>\n",
       "  </tbody>\n",
       "</table>\n",
       "<p>33785 rows × 13 columns</p>\n",
       "</div>"
      ],
      "text/plain": [
       "         _RAJ2000   _DEJ2000    MPF    Bmag  e_Bmag    Vmag  e_Vmag    Imag  \\\n",
       "0      279.116359 -23.920319      1  12.071   0.010  10.351   0.010   8.544   \n",
       "1      279.043587 -23.774296      2  10.854   0.011  10.483   0.011   9.938   \n",
       "2      279.086291 -23.924123      3  12.632   0.010  10.836   0.010   8.926   \n",
       "3      279.044001 -23.916703      4  12.708   0.010  10.885   0.011   8.937   \n",
       "4      279.171046 -23.971967      5  12.794   0.010  10.942   0.010   8.980   \n",
       "...           ...        ...    ...     ...     ...     ...     ...     ...   \n",
       "33780  279.155864 -23.835252  33781   0.000   0.000  23.094   0.427  20.522   \n",
       "33781  279.089015 -23.798800  33782   0.000   0.000  23.106   0.374  20.576   \n",
       "33782  279.046927 -23.938098  33783   0.000   0.000  23.188   0.474  20.861   \n",
       "33783  279.039096 -23.855536  33784   0.000   0.000  23.190   0.473  20.492   \n",
       "33784  279.073305 -23.991285  33785   0.000   0.000  23.406   0.469  20.502   \n",
       "\n",
       "       e_Imag      xpos      ypos       RAdeg      DEdeg  \n",
       "0       0.125   806.273  1876.142  279.116359 -23.920319  \n",
       "1       0.014  1808.769  4086.802  279.043587 -23.774296  \n",
       "2       0.016  1221.985  1819.724  279.086291 -23.924123  \n",
       "3       0.019  1806.331  1933.347  279.044001 -23.916703  \n",
       "4       0.016    52.285  1092.889  279.171046 -23.971967  \n",
       "...       ...       ...       ...         ...        ...  \n",
       "33780   0.097   257.239  3160.910  279.155864 -23.835252  \n",
       "33781   0.071  1180.838  3714.734  279.089015 -23.798800  \n",
       "33782   0.196  1766.394  1609.729  279.046927 -23.938098  \n",
       "33783   0.112  1872.753  2858.444  279.039096 -23.855536  \n",
       "33784   0.055  1403.247   804.582  279.073305 -23.991285  \n",
       "\n",
       "[33785 rows x 13 columns]"
      ]
     },
     "execution_count": 11,
     "metadata": {},
     "output_type": "execute_result"
    }
   ],
   "source": [
    "m22"
   ]
  },
  {
   "cell_type": "markdown",
   "metadata": {
    "id": "c_qAjFinkxYy"
   },
   "source": [
    "And we would like to check the column headers of the dataset and the data types (dtypes). Do so in the following two cells for the M22 dataset."
   ]
  },
  {
   "cell_type": "code",
   "execution_count": 12,
   "metadata": {
    "id": "fGXIu75YkxYz"
   },
   "outputs": [
    {
     "data": {
      "text/plain": [
       "Index(['_RAJ2000', '_DEJ2000', 'MPF', 'Bmag', 'e_Bmag', 'Vmag', 'e_Vmag',\n",
       "       'Imag', 'e_Imag', 'xpos', 'ypos', 'RAdeg', 'DEdeg'],\n",
       "      dtype='object')"
      ]
     },
     "execution_count": 12,
     "metadata": {},
     "output_type": "execute_result"
    }
   ],
   "source": [
    "# Check the columns here\n",
    "m22.columns"
   ]
  },
  {
   "cell_type": "code",
   "execution_count": 13,
   "metadata": {
    "id": "4AjAEmqhkxY2"
   },
   "outputs": [
    {
     "data": {
      "text/plain": [
       "_RAJ2000    float64\n",
       "_DEJ2000    float64\n",
       "MPF           int64\n",
       "Bmag        float64\n",
       "e_Bmag      float64\n",
       "Vmag        float64\n",
       "e_Vmag      float64\n",
       "Imag        float64\n",
       "e_Imag      float64\n",
       "xpos        float64\n",
       "ypos        float64\n",
       "RAdeg       float64\n",
       "DEdeg       float64\n",
       "dtype: object"
      ]
     },
     "execution_count": 13,
     "metadata": {},
     "output_type": "execute_result"
    }
   ],
   "source": [
    "# Check the datatypes for the columns here.\n",
    "m22.dtypes"
   ]
  },
  {
   "cell_type": "markdown",
   "metadata": {
    "id": "s0tjVOdWkxY6"
   },
   "source": [
    "## Calculating values for color-magnitude diagrams (CMDs)\n",
    "\n",
    "We are most interested in the measured B and V magnitude columns for the stars in these clusters. However, these are both _apparent_ magnitudes, and we want to use absolute magnitude for the V vs. B-V color-magnitude diagram.\n",
    "\n",
    "Therefore, for each dataset we downloaded, we will need to do four things:\n",
    "\n",
    "* Read in the datafiles.\n",
    "\n",
    "* Ensure the data columns we want to manipulate have the appropriate data type. (Depending on the dataset, we might need to use the pd.to_numeric function, as in Lab1.)\n",
    "\n",
    "* Use the apparent magnitude and distance to calculate the absolute V magnitude (Y-axis proxy for luminosity).\n",
    "\n",
    "* Use the B and V magnitudes to calculate the color (X-axis proxy for temperature).\n",
    "\n",
    "In the next steps, we are going to calculate new pandas series for absolute V magnitude and B-V color and add them to our existing M22 dataframe."
   ]
  },
  {
   "cell_type": "markdown",
   "metadata": {
    "id": "EvmXSZk8kxY7"
   },
   "source": [
    "#### Questions:\n",
    "<p>3) What quantities are needed to calculate an absolute magnitude?</p>\n",
    "- (your answer here) Distance, apparent magnitude\n",
    "\n",
    "<p>4) Do we need to use apparent magnitudes or absolute magnitudes to calculate the B-V color? Why?</p>\n",
    "- (your answer here) Yes, because B-V color is a difference in magnitudes in these two filters."
   ]
  },
  {
   "cell_type": "markdown",
   "metadata": {
    "id": "tAXSXJrckxY8"
   },
   "source": [
    "### Adding a new column to an existing pandas dataframe\n",
    "\n",
    "For the X-axis of our CMD, we want to add a column to our existing data frame with the new calculated B-V value. With pandas, this is very simple -- all we have to do is define a new column label, and subtract the existing columns!\n",
    "\n",
    "Let's first remind ourselves what the M22 dataframe/table looks like right now. We can view a snippet of the top of the table by using the following method, which shows the first five rows only:"
   ]
  },
  {
   "cell_type": "code",
   "execution_count": 14,
   "metadata": {
    "id": "JTFOr43rkxY8"
   },
   "outputs": [
    {
     "data": {
      "text/html": [
       "<div>\n",
       "<style scoped>\n",
       "    .dataframe tbody tr th:only-of-type {\n",
       "        vertical-align: middle;\n",
       "    }\n",
       "\n",
       "    .dataframe tbody tr th {\n",
       "        vertical-align: top;\n",
       "    }\n",
       "\n",
       "    .dataframe thead th {\n",
       "        text-align: right;\n",
       "    }\n",
       "</style>\n",
       "<table border=\"1\" class=\"dataframe\">\n",
       "  <thead>\n",
       "    <tr style=\"text-align: right;\">\n",
       "      <th></th>\n",
       "      <th>_RAJ2000</th>\n",
       "      <th>_DEJ2000</th>\n",
       "      <th>MPF</th>\n",
       "      <th>Bmag</th>\n",
       "      <th>e_Bmag</th>\n",
       "      <th>Vmag</th>\n",
       "      <th>e_Vmag</th>\n",
       "      <th>Imag</th>\n",
       "      <th>e_Imag</th>\n",
       "      <th>xpos</th>\n",
       "      <th>ypos</th>\n",
       "      <th>RAdeg</th>\n",
       "      <th>DEdeg</th>\n",
       "    </tr>\n",
       "  </thead>\n",
       "  <tbody>\n",
       "    <tr>\n",
       "      <th>0</th>\n",
       "      <td>279.116359</td>\n",
       "      <td>-23.920319</td>\n",
       "      <td>1</td>\n",
       "      <td>12.071</td>\n",
       "      <td>0.010</td>\n",
       "      <td>10.351</td>\n",
       "      <td>0.010</td>\n",
       "      <td>8.544</td>\n",
       "      <td>0.125</td>\n",
       "      <td>806.273</td>\n",
       "      <td>1876.142</td>\n",
       "      <td>279.116359</td>\n",
       "      <td>-23.920319</td>\n",
       "    </tr>\n",
       "    <tr>\n",
       "      <th>1</th>\n",
       "      <td>279.043587</td>\n",
       "      <td>-23.774296</td>\n",
       "      <td>2</td>\n",
       "      <td>10.854</td>\n",
       "      <td>0.011</td>\n",
       "      <td>10.483</td>\n",
       "      <td>0.011</td>\n",
       "      <td>9.938</td>\n",
       "      <td>0.014</td>\n",
       "      <td>1808.769</td>\n",
       "      <td>4086.802</td>\n",
       "      <td>279.043587</td>\n",
       "      <td>-23.774296</td>\n",
       "    </tr>\n",
       "    <tr>\n",
       "      <th>2</th>\n",
       "      <td>279.086291</td>\n",
       "      <td>-23.924123</td>\n",
       "      <td>3</td>\n",
       "      <td>12.632</td>\n",
       "      <td>0.010</td>\n",
       "      <td>10.836</td>\n",
       "      <td>0.010</td>\n",
       "      <td>8.926</td>\n",
       "      <td>0.016</td>\n",
       "      <td>1221.985</td>\n",
       "      <td>1819.724</td>\n",
       "      <td>279.086291</td>\n",
       "      <td>-23.924123</td>\n",
       "    </tr>\n",
       "    <tr>\n",
       "      <th>3</th>\n",
       "      <td>279.044001</td>\n",
       "      <td>-23.916703</td>\n",
       "      <td>4</td>\n",
       "      <td>12.708</td>\n",
       "      <td>0.010</td>\n",
       "      <td>10.885</td>\n",
       "      <td>0.011</td>\n",
       "      <td>8.937</td>\n",
       "      <td>0.019</td>\n",
       "      <td>1806.331</td>\n",
       "      <td>1933.347</td>\n",
       "      <td>279.044001</td>\n",
       "      <td>-23.916703</td>\n",
       "    </tr>\n",
       "    <tr>\n",
       "      <th>4</th>\n",
       "      <td>279.171046</td>\n",
       "      <td>-23.971967</td>\n",
       "      <td>5</td>\n",
       "      <td>12.794</td>\n",
       "      <td>0.010</td>\n",
       "      <td>10.942</td>\n",
       "      <td>0.010</td>\n",
       "      <td>8.980</td>\n",
       "      <td>0.016</td>\n",
       "      <td>52.285</td>\n",
       "      <td>1092.889</td>\n",
       "      <td>279.171046</td>\n",
       "      <td>-23.971967</td>\n",
       "    </tr>\n",
       "  </tbody>\n",
       "</table>\n",
       "</div>"
      ],
      "text/plain": [
       "     _RAJ2000   _DEJ2000  MPF    Bmag  e_Bmag    Vmag  e_Vmag   Imag  e_Imag  \\\n",
       "0  279.116359 -23.920319    1  12.071   0.010  10.351   0.010  8.544   0.125   \n",
       "1  279.043587 -23.774296    2  10.854   0.011  10.483   0.011  9.938   0.014   \n",
       "2  279.086291 -23.924123    3  12.632   0.010  10.836   0.010  8.926   0.016   \n",
       "3  279.044001 -23.916703    4  12.708   0.010  10.885   0.011  8.937   0.019   \n",
       "4  279.171046 -23.971967    5  12.794   0.010  10.942   0.010  8.980   0.016   \n",
       "\n",
       "       xpos      ypos       RAdeg      DEdeg  \n",
       "0   806.273  1876.142  279.116359 -23.920319  \n",
       "1  1808.769  4086.802  279.043587 -23.774296  \n",
       "2  1221.985  1819.724  279.086291 -23.924123  \n",
       "3  1806.331  1933.347  279.044001 -23.916703  \n",
       "4    52.285  1092.889  279.171046 -23.971967  "
      ]
     },
     "execution_count": 14,
     "metadata": {},
     "output_type": "execute_result"
    }
   ],
   "source": [
    "m22.head()"
   ]
  },
  {
   "cell_type": "markdown",
   "metadata": {
    "id": "xYGGwijbkxZE"
   },
   "source": [
    "In pandas, dataframes have both \"heads\" and \"tails\". What do you expect the \"tail\" method to do? Try in the cell below."
   ]
  },
  {
   "cell_type": "code",
   "execution_count": 15,
   "metadata": {
    "id": "gT3ArKaekxZF"
   },
   "outputs": [
    {
     "data": {
      "text/html": [
       "<div>\n",
       "<style scoped>\n",
       "    .dataframe tbody tr th:only-of-type {\n",
       "        vertical-align: middle;\n",
       "    }\n",
       "\n",
       "    .dataframe tbody tr th {\n",
       "        vertical-align: top;\n",
       "    }\n",
       "\n",
       "    .dataframe thead th {\n",
       "        text-align: right;\n",
       "    }\n",
       "</style>\n",
       "<table border=\"1\" class=\"dataframe\">\n",
       "  <thead>\n",
       "    <tr style=\"text-align: right;\">\n",
       "      <th></th>\n",
       "      <th>_RAJ2000</th>\n",
       "      <th>_DEJ2000</th>\n",
       "      <th>MPF</th>\n",
       "      <th>Bmag</th>\n",
       "      <th>e_Bmag</th>\n",
       "      <th>Vmag</th>\n",
       "      <th>e_Vmag</th>\n",
       "      <th>Imag</th>\n",
       "      <th>e_Imag</th>\n",
       "      <th>xpos</th>\n",
       "      <th>ypos</th>\n",
       "      <th>RAdeg</th>\n",
       "      <th>DEdeg</th>\n",
       "    </tr>\n",
       "  </thead>\n",
       "  <tbody>\n",
       "    <tr>\n",
       "      <th>33780</th>\n",
       "      <td>279.155864</td>\n",
       "      <td>-23.835252</td>\n",
       "      <td>33781</td>\n",
       "      <td>0.0</td>\n",
       "      <td>0.0</td>\n",
       "      <td>23.094</td>\n",
       "      <td>0.427</td>\n",
       "      <td>20.522</td>\n",
       "      <td>0.097</td>\n",
       "      <td>257.239</td>\n",
       "      <td>3160.910</td>\n",
       "      <td>279.155864</td>\n",
       "      <td>-23.835252</td>\n",
       "    </tr>\n",
       "    <tr>\n",
       "      <th>33781</th>\n",
       "      <td>279.089015</td>\n",
       "      <td>-23.798800</td>\n",
       "      <td>33782</td>\n",
       "      <td>0.0</td>\n",
       "      <td>0.0</td>\n",
       "      <td>23.106</td>\n",
       "      <td>0.374</td>\n",
       "      <td>20.576</td>\n",
       "      <td>0.071</td>\n",
       "      <td>1180.838</td>\n",
       "      <td>3714.734</td>\n",
       "      <td>279.089015</td>\n",
       "      <td>-23.798800</td>\n",
       "    </tr>\n",
       "    <tr>\n",
       "      <th>33782</th>\n",
       "      <td>279.046927</td>\n",
       "      <td>-23.938098</td>\n",
       "      <td>33783</td>\n",
       "      <td>0.0</td>\n",
       "      <td>0.0</td>\n",
       "      <td>23.188</td>\n",
       "      <td>0.474</td>\n",
       "      <td>20.861</td>\n",
       "      <td>0.196</td>\n",
       "      <td>1766.394</td>\n",
       "      <td>1609.729</td>\n",
       "      <td>279.046927</td>\n",
       "      <td>-23.938098</td>\n",
       "    </tr>\n",
       "    <tr>\n",
       "      <th>33783</th>\n",
       "      <td>279.039096</td>\n",
       "      <td>-23.855536</td>\n",
       "      <td>33784</td>\n",
       "      <td>0.0</td>\n",
       "      <td>0.0</td>\n",
       "      <td>23.190</td>\n",
       "      <td>0.473</td>\n",
       "      <td>20.492</td>\n",
       "      <td>0.112</td>\n",
       "      <td>1872.753</td>\n",
       "      <td>2858.444</td>\n",
       "      <td>279.039096</td>\n",
       "      <td>-23.855536</td>\n",
       "    </tr>\n",
       "    <tr>\n",
       "      <th>33784</th>\n",
       "      <td>279.073305</td>\n",
       "      <td>-23.991285</td>\n",
       "      <td>33785</td>\n",
       "      <td>0.0</td>\n",
       "      <td>0.0</td>\n",
       "      <td>23.406</td>\n",
       "      <td>0.469</td>\n",
       "      <td>20.502</td>\n",
       "      <td>0.055</td>\n",
       "      <td>1403.247</td>\n",
       "      <td>804.582</td>\n",
       "      <td>279.073305</td>\n",
       "      <td>-23.991285</td>\n",
       "    </tr>\n",
       "  </tbody>\n",
       "</table>\n",
       "</div>"
      ],
      "text/plain": [
       "         _RAJ2000   _DEJ2000    MPF  Bmag  e_Bmag    Vmag  e_Vmag    Imag  \\\n",
       "33780  279.155864 -23.835252  33781   0.0     0.0  23.094   0.427  20.522   \n",
       "33781  279.089015 -23.798800  33782   0.0     0.0  23.106   0.374  20.576   \n",
       "33782  279.046927 -23.938098  33783   0.0     0.0  23.188   0.474  20.861   \n",
       "33783  279.039096 -23.855536  33784   0.0     0.0  23.190   0.473  20.492   \n",
       "33784  279.073305 -23.991285  33785   0.0     0.0  23.406   0.469  20.502   \n",
       "\n",
       "       e_Imag      xpos      ypos       RAdeg      DEdeg  \n",
       "33780   0.097   257.239  3160.910  279.155864 -23.835252  \n",
       "33781   0.071  1180.838  3714.734  279.089015 -23.798800  \n",
       "33782   0.196  1766.394  1609.729  279.046927 -23.938098  \n",
       "33783   0.112  1872.753  2858.444  279.039096 -23.855536  \n",
       "33784   0.055  1403.247   804.582  279.073305 -23.991285  "
      ]
     },
     "execution_count": 15,
     "metadata": {},
     "output_type": "execute_result"
    }
   ],
   "source": [
    "m22.tail()"
   ]
  },
  {
   "cell_type": "markdown",
   "metadata": {
    "id": "D3LNiw_WkxZK"
   },
   "source": [
    "Now add a new column for B-V color to the existing M22 dataframe. We can label this column whatever we like, _as long as the label isn't already used for a different column_ -- if the column label already exists, it will overwrite it!  \n",
    "\n",
    "Let's label the new column \"BVcolor\", the values of which are the differences between values in the existing B and V columns:"
   ]
  },
  {
   "cell_type": "code",
   "execution_count": 16,
   "metadata": {
    "id": "7WQhPnBKkxZM"
   },
   "outputs": [],
   "source": [
    "m22['BVcolor'] = m22['Bmag'] - m22['Vmag']"
   ]
  },
  {
   "cell_type": "markdown",
   "metadata": {
    "id": "1UwvXRC1kxZc"
   },
   "source": [
    "Did that work? Check by viewing the table in the cell below."
   ]
  },
  {
   "cell_type": "code",
   "execution_count": 17,
   "metadata": {
    "id": "V8UwQONPkxZe"
   },
   "outputs": [
    {
     "data": {
      "text/html": [
       "<div>\n",
       "<style scoped>\n",
       "    .dataframe tbody tr th:only-of-type {\n",
       "        vertical-align: middle;\n",
       "    }\n",
       "\n",
       "    .dataframe tbody tr th {\n",
       "        vertical-align: top;\n",
       "    }\n",
       "\n",
       "    .dataframe thead th {\n",
       "        text-align: right;\n",
       "    }\n",
       "</style>\n",
       "<table border=\"1\" class=\"dataframe\">\n",
       "  <thead>\n",
       "    <tr style=\"text-align: right;\">\n",
       "      <th></th>\n",
       "      <th>_RAJ2000</th>\n",
       "      <th>_DEJ2000</th>\n",
       "      <th>MPF</th>\n",
       "      <th>Bmag</th>\n",
       "      <th>e_Bmag</th>\n",
       "      <th>Vmag</th>\n",
       "      <th>e_Vmag</th>\n",
       "      <th>Imag</th>\n",
       "      <th>e_Imag</th>\n",
       "      <th>xpos</th>\n",
       "      <th>ypos</th>\n",
       "      <th>RAdeg</th>\n",
       "      <th>DEdeg</th>\n",
       "      <th>BVcolor</th>\n",
       "    </tr>\n",
       "  </thead>\n",
       "  <tbody>\n",
       "    <tr>\n",
       "      <th>0</th>\n",
       "      <td>279.116359</td>\n",
       "      <td>-23.920319</td>\n",
       "      <td>1</td>\n",
       "      <td>12.071</td>\n",
       "      <td>0.010</td>\n",
       "      <td>10.351</td>\n",
       "      <td>0.010</td>\n",
       "      <td>8.544</td>\n",
       "      <td>0.125</td>\n",
       "      <td>806.273</td>\n",
       "      <td>1876.142</td>\n",
       "      <td>279.116359</td>\n",
       "      <td>-23.920319</td>\n",
       "      <td>1.720</td>\n",
       "    </tr>\n",
       "    <tr>\n",
       "      <th>1</th>\n",
       "      <td>279.043587</td>\n",
       "      <td>-23.774296</td>\n",
       "      <td>2</td>\n",
       "      <td>10.854</td>\n",
       "      <td>0.011</td>\n",
       "      <td>10.483</td>\n",
       "      <td>0.011</td>\n",
       "      <td>9.938</td>\n",
       "      <td>0.014</td>\n",
       "      <td>1808.769</td>\n",
       "      <td>4086.802</td>\n",
       "      <td>279.043587</td>\n",
       "      <td>-23.774296</td>\n",
       "      <td>0.371</td>\n",
       "    </tr>\n",
       "    <tr>\n",
       "      <th>2</th>\n",
       "      <td>279.086291</td>\n",
       "      <td>-23.924123</td>\n",
       "      <td>3</td>\n",
       "      <td>12.632</td>\n",
       "      <td>0.010</td>\n",
       "      <td>10.836</td>\n",
       "      <td>0.010</td>\n",
       "      <td>8.926</td>\n",
       "      <td>0.016</td>\n",
       "      <td>1221.985</td>\n",
       "      <td>1819.724</td>\n",
       "      <td>279.086291</td>\n",
       "      <td>-23.924123</td>\n",
       "      <td>1.796</td>\n",
       "    </tr>\n",
       "    <tr>\n",
       "      <th>3</th>\n",
       "      <td>279.044001</td>\n",
       "      <td>-23.916703</td>\n",
       "      <td>4</td>\n",
       "      <td>12.708</td>\n",
       "      <td>0.010</td>\n",
       "      <td>10.885</td>\n",
       "      <td>0.011</td>\n",
       "      <td>8.937</td>\n",
       "      <td>0.019</td>\n",
       "      <td>1806.331</td>\n",
       "      <td>1933.347</td>\n",
       "      <td>279.044001</td>\n",
       "      <td>-23.916703</td>\n",
       "      <td>1.823</td>\n",
       "    </tr>\n",
       "    <tr>\n",
       "      <th>4</th>\n",
       "      <td>279.171046</td>\n",
       "      <td>-23.971967</td>\n",
       "      <td>5</td>\n",
       "      <td>12.794</td>\n",
       "      <td>0.010</td>\n",
       "      <td>10.942</td>\n",
       "      <td>0.010</td>\n",
       "      <td>8.980</td>\n",
       "      <td>0.016</td>\n",
       "      <td>52.285</td>\n",
       "      <td>1092.889</td>\n",
       "      <td>279.171046</td>\n",
       "      <td>-23.971967</td>\n",
       "      <td>1.852</td>\n",
       "    </tr>\n",
       "  </tbody>\n",
       "</table>\n",
       "</div>"
      ],
      "text/plain": [
       "     _RAJ2000   _DEJ2000  MPF    Bmag  e_Bmag    Vmag  e_Vmag   Imag  e_Imag  \\\n",
       "0  279.116359 -23.920319    1  12.071   0.010  10.351   0.010  8.544   0.125   \n",
       "1  279.043587 -23.774296    2  10.854   0.011  10.483   0.011  9.938   0.014   \n",
       "2  279.086291 -23.924123    3  12.632   0.010  10.836   0.010  8.926   0.016   \n",
       "3  279.044001 -23.916703    4  12.708   0.010  10.885   0.011  8.937   0.019   \n",
       "4  279.171046 -23.971967    5  12.794   0.010  10.942   0.010  8.980   0.016   \n",
       "\n",
       "       xpos      ypos       RAdeg      DEdeg  BVcolor  \n",
       "0   806.273  1876.142  279.116359 -23.920319    1.720  \n",
       "1  1808.769  4086.802  279.043587 -23.774296    0.371  \n",
       "2  1221.985  1819.724  279.086291 -23.924123    1.796  \n",
       "3  1806.331  1933.347  279.044001 -23.916703    1.823  \n",
       "4    52.285  1092.889  279.171046 -23.971967    1.852  "
      ]
     },
     "execution_count": 17,
     "metadata": {},
     "output_type": "execute_result"
    }
   ],
   "source": [
    "m22.head() # Could also do m22.columns"
   ]
  },
  {
   "cell_type": "markdown",
   "metadata": {
    "id": "KfYDnTBnNM86"
   },
   "source": [
    "Note that some of the m22 data is bad. To correct for this, you can use boolean logic to identify values that are above a certain value and filter them out."
   ]
  },
  {
   "cell_type": "code",
   "execution_count": 18,
   "metadata": {
    "id": "5YOxzo8vNM86"
   },
   "outputs": [],
   "source": [
    "bad = np.abs(m22['BVcolor']) > 10\n",
    "\n",
    "m22[bad] = np.nan"
   ]
  },
  {
   "cell_type": "markdown",
   "metadata": {
    "id": "mKxLZp4KkxZm"
   },
   "source": [
    "What if we wanted to calculate the V-I color instead of B-V? Add a new V-I column to the dataframe, and check to ensure the dataframe has updated:"
   ]
  },
  {
   "cell_type": "code",
   "execution_count": 19,
   "metadata": {
    "id": "GfAkutJxkxZn"
   },
   "outputs": [],
   "source": [
    "# Calculate a new column labeled \"VIcolor\"\n",
    "m22['VIcolor'] = m22['Vmag'] - m22['Imag']"
   ]
  },
  {
   "cell_type": "code",
   "execution_count": 20,
   "metadata": {
    "id": "ZifJtzg_kxZr"
   },
   "outputs": [
    {
     "data": {
      "text/html": [
       "<div>\n",
       "<style scoped>\n",
       "    .dataframe tbody tr th:only-of-type {\n",
       "        vertical-align: middle;\n",
       "    }\n",
       "\n",
       "    .dataframe tbody tr th {\n",
       "        vertical-align: top;\n",
       "    }\n",
       "\n",
       "    .dataframe thead th {\n",
       "        text-align: right;\n",
       "    }\n",
       "</style>\n",
       "<table border=\"1\" class=\"dataframe\">\n",
       "  <thead>\n",
       "    <tr style=\"text-align: right;\">\n",
       "      <th></th>\n",
       "      <th>_RAJ2000</th>\n",
       "      <th>_DEJ2000</th>\n",
       "      <th>MPF</th>\n",
       "      <th>Bmag</th>\n",
       "      <th>e_Bmag</th>\n",
       "      <th>Vmag</th>\n",
       "      <th>e_Vmag</th>\n",
       "      <th>Imag</th>\n",
       "      <th>e_Imag</th>\n",
       "      <th>xpos</th>\n",
       "      <th>ypos</th>\n",
       "      <th>RAdeg</th>\n",
       "      <th>DEdeg</th>\n",
       "      <th>BVcolor</th>\n",
       "      <th>VIcolor</th>\n",
       "    </tr>\n",
       "  </thead>\n",
       "  <tbody>\n",
       "    <tr>\n",
       "      <th>0</th>\n",
       "      <td>279.116359</td>\n",
       "      <td>-23.920319</td>\n",
       "      <td>1.0</td>\n",
       "      <td>12.071</td>\n",
       "      <td>0.010</td>\n",
       "      <td>10.351</td>\n",
       "      <td>0.010</td>\n",
       "      <td>8.544</td>\n",
       "      <td>0.125</td>\n",
       "      <td>806.273</td>\n",
       "      <td>1876.142</td>\n",
       "      <td>279.116359</td>\n",
       "      <td>-23.920319</td>\n",
       "      <td>1.720</td>\n",
       "      <td>1.807</td>\n",
       "    </tr>\n",
       "    <tr>\n",
       "      <th>1</th>\n",
       "      <td>279.043587</td>\n",
       "      <td>-23.774296</td>\n",
       "      <td>2.0</td>\n",
       "      <td>10.854</td>\n",
       "      <td>0.011</td>\n",
       "      <td>10.483</td>\n",
       "      <td>0.011</td>\n",
       "      <td>9.938</td>\n",
       "      <td>0.014</td>\n",
       "      <td>1808.769</td>\n",
       "      <td>4086.802</td>\n",
       "      <td>279.043587</td>\n",
       "      <td>-23.774296</td>\n",
       "      <td>0.371</td>\n",
       "      <td>0.545</td>\n",
       "    </tr>\n",
       "    <tr>\n",
       "      <th>2</th>\n",
       "      <td>279.086291</td>\n",
       "      <td>-23.924123</td>\n",
       "      <td>3.0</td>\n",
       "      <td>12.632</td>\n",
       "      <td>0.010</td>\n",
       "      <td>10.836</td>\n",
       "      <td>0.010</td>\n",
       "      <td>8.926</td>\n",
       "      <td>0.016</td>\n",
       "      <td>1221.985</td>\n",
       "      <td>1819.724</td>\n",
       "      <td>279.086291</td>\n",
       "      <td>-23.924123</td>\n",
       "      <td>1.796</td>\n",
       "      <td>1.910</td>\n",
       "    </tr>\n",
       "    <tr>\n",
       "      <th>3</th>\n",
       "      <td>279.044001</td>\n",
       "      <td>-23.916703</td>\n",
       "      <td>4.0</td>\n",
       "      <td>12.708</td>\n",
       "      <td>0.010</td>\n",
       "      <td>10.885</td>\n",
       "      <td>0.011</td>\n",
       "      <td>8.937</td>\n",
       "      <td>0.019</td>\n",
       "      <td>1806.331</td>\n",
       "      <td>1933.347</td>\n",
       "      <td>279.044001</td>\n",
       "      <td>-23.916703</td>\n",
       "      <td>1.823</td>\n",
       "      <td>1.948</td>\n",
       "    </tr>\n",
       "    <tr>\n",
       "      <th>4</th>\n",
       "      <td>279.171046</td>\n",
       "      <td>-23.971967</td>\n",
       "      <td>5.0</td>\n",
       "      <td>12.794</td>\n",
       "      <td>0.010</td>\n",
       "      <td>10.942</td>\n",
       "      <td>0.010</td>\n",
       "      <td>8.980</td>\n",
       "      <td>0.016</td>\n",
       "      <td>52.285</td>\n",
       "      <td>1092.889</td>\n",
       "      <td>279.171046</td>\n",
       "      <td>-23.971967</td>\n",
       "      <td>1.852</td>\n",
       "      <td>1.962</td>\n",
       "    </tr>\n",
       "    <tr>\n",
       "      <th>...</th>\n",
       "      <td>...</td>\n",
       "      <td>...</td>\n",
       "      <td>...</td>\n",
       "      <td>...</td>\n",
       "      <td>...</td>\n",
       "      <td>...</td>\n",
       "      <td>...</td>\n",
       "      <td>...</td>\n",
       "      <td>...</td>\n",
       "      <td>...</td>\n",
       "      <td>...</td>\n",
       "      <td>...</td>\n",
       "      <td>...</td>\n",
       "      <td>...</td>\n",
       "      <td>...</td>\n",
       "    </tr>\n",
       "    <tr>\n",
       "      <th>33780</th>\n",
       "      <td>NaN</td>\n",
       "      <td>NaN</td>\n",
       "      <td>NaN</td>\n",
       "      <td>NaN</td>\n",
       "      <td>NaN</td>\n",
       "      <td>NaN</td>\n",
       "      <td>NaN</td>\n",
       "      <td>NaN</td>\n",
       "      <td>NaN</td>\n",
       "      <td>NaN</td>\n",
       "      <td>NaN</td>\n",
       "      <td>NaN</td>\n",
       "      <td>NaN</td>\n",
       "      <td>NaN</td>\n",
       "      <td>NaN</td>\n",
       "    </tr>\n",
       "    <tr>\n",
       "      <th>33781</th>\n",
       "      <td>NaN</td>\n",
       "      <td>NaN</td>\n",
       "      <td>NaN</td>\n",
       "      <td>NaN</td>\n",
       "      <td>NaN</td>\n",
       "      <td>NaN</td>\n",
       "      <td>NaN</td>\n",
       "      <td>NaN</td>\n",
       "      <td>NaN</td>\n",
       "      <td>NaN</td>\n",
       "      <td>NaN</td>\n",
       "      <td>NaN</td>\n",
       "      <td>NaN</td>\n",
       "      <td>NaN</td>\n",
       "      <td>NaN</td>\n",
       "    </tr>\n",
       "    <tr>\n",
       "      <th>33782</th>\n",
       "      <td>NaN</td>\n",
       "      <td>NaN</td>\n",
       "      <td>NaN</td>\n",
       "      <td>NaN</td>\n",
       "      <td>NaN</td>\n",
       "      <td>NaN</td>\n",
       "      <td>NaN</td>\n",
       "      <td>NaN</td>\n",
       "      <td>NaN</td>\n",
       "      <td>NaN</td>\n",
       "      <td>NaN</td>\n",
       "      <td>NaN</td>\n",
       "      <td>NaN</td>\n",
       "      <td>NaN</td>\n",
       "      <td>NaN</td>\n",
       "    </tr>\n",
       "    <tr>\n",
       "      <th>33783</th>\n",
       "      <td>NaN</td>\n",
       "      <td>NaN</td>\n",
       "      <td>NaN</td>\n",
       "      <td>NaN</td>\n",
       "      <td>NaN</td>\n",
       "      <td>NaN</td>\n",
       "      <td>NaN</td>\n",
       "      <td>NaN</td>\n",
       "      <td>NaN</td>\n",
       "      <td>NaN</td>\n",
       "      <td>NaN</td>\n",
       "      <td>NaN</td>\n",
       "      <td>NaN</td>\n",
       "      <td>NaN</td>\n",
       "      <td>NaN</td>\n",
       "    </tr>\n",
       "    <tr>\n",
       "      <th>33784</th>\n",
       "      <td>NaN</td>\n",
       "      <td>NaN</td>\n",
       "      <td>NaN</td>\n",
       "      <td>NaN</td>\n",
       "      <td>NaN</td>\n",
       "      <td>NaN</td>\n",
       "      <td>NaN</td>\n",
       "      <td>NaN</td>\n",
       "      <td>NaN</td>\n",
       "      <td>NaN</td>\n",
       "      <td>NaN</td>\n",
       "      <td>NaN</td>\n",
       "      <td>NaN</td>\n",
       "      <td>NaN</td>\n",
       "      <td>NaN</td>\n",
       "    </tr>\n",
       "  </tbody>\n",
       "</table>\n",
       "<p>33785 rows × 15 columns</p>\n",
       "</div>"
      ],
      "text/plain": [
       "         _RAJ2000   _DEJ2000  MPF    Bmag  e_Bmag    Vmag  e_Vmag   Imag  \\\n",
       "0      279.116359 -23.920319  1.0  12.071   0.010  10.351   0.010  8.544   \n",
       "1      279.043587 -23.774296  2.0  10.854   0.011  10.483   0.011  9.938   \n",
       "2      279.086291 -23.924123  3.0  12.632   0.010  10.836   0.010  8.926   \n",
       "3      279.044001 -23.916703  4.0  12.708   0.010  10.885   0.011  8.937   \n",
       "4      279.171046 -23.971967  5.0  12.794   0.010  10.942   0.010  8.980   \n",
       "...           ...        ...  ...     ...     ...     ...     ...    ...   \n",
       "33780         NaN        NaN  NaN     NaN     NaN     NaN     NaN    NaN   \n",
       "33781         NaN        NaN  NaN     NaN     NaN     NaN     NaN    NaN   \n",
       "33782         NaN        NaN  NaN     NaN     NaN     NaN     NaN    NaN   \n",
       "33783         NaN        NaN  NaN     NaN     NaN     NaN     NaN    NaN   \n",
       "33784         NaN        NaN  NaN     NaN     NaN     NaN     NaN    NaN   \n",
       "\n",
       "       e_Imag      xpos      ypos       RAdeg      DEdeg  BVcolor  VIcolor  \n",
       "0       0.125   806.273  1876.142  279.116359 -23.920319    1.720    1.807  \n",
       "1       0.014  1808.769  4086.802  279.043587 -23.774296    0.371    0.545  \n",
       "2       0.016  1221.985  1819.724  279.086291 -23.924123    1.796    1.910  \n",
       "3       0.019  1806.331  1933.347  279.044001 -23.916703    1.823    1.948  \n",
       "4       0.016    52.285  1092.889  279.171046 -23.971967    1.852    1.962  \n",
       "...       ...       ...       ...         ...        ...      ...      ...  \n",
       "33780     NaN       NaN       NaN         NaN        NaN      NaN      NaN  \n",
       "33781     NaN       NaN       NaN         NaN        NaN      NaN      NaN  \n",
       "33782     NaN       NaN       NaN         NaN        NaN      NaN      NaN  \n",
       "33783     NaN       NaN       NaN         NaN        NaN      NaN      NaN  \n",
       "33784     NaN       NaN       NaN         NaN        NaN      NaN      NaN  \n",
       "\n",
       "[33785 rows x 15 columns]"
      ]
     },
     "execution_count": 20,
     "metadata": {},
     "output_type": "execute_result"
    }
   ],
   "source": [
    "# Check for the updated dataframe column\n",
    "m22\n"
   ]
  },
  {
   "cell_type": "markdown",
   "metadata": {
    "id": "v8nXgSjBkxZu"
   },
   "source": [
    "### A brief overview of functions in python"
   ]
  },
  {
   "cell_type": "markdown",
   "metadata": {
    "id": "JxddddC-kxZw"
   },
   "source": [
    "Programs often involve tasks that must be done repetitively, or there are tasks that we want to perform that are common to many programs. We will write a function that uses the distance modulus equation and calculates absolute magnitudes.\n",
    "\n",
    "An example of a standard python function is the logarithm function, which is built into python within the _numpy_ package (short for \"numerical python\"). We saw last week that `np.log10` takes the base 10 logarithm of the input, and returns the corresponding power:"
   ]
  },
  {
   "cell_type": "code",
   "execution_count": 21,
   "metadata": {
    "id": "ZbsRXYDVkxZx"
   },
   "outputs": [
    {
     "name": "stdout",
     "output_type": "stream",
     "text": [
      "3.0\n"
     ]
    }
   ],
   "source": [
    "input_value = 1000.0 # define a variable\n",
    "return_value = np.log10(input_value) # use that variable within a function\n",
    "print(return_value) # print the output of the function, which has been saved to the new variable \"return_value\""
   ]
  },
  {
   "cell_type": "markdown",
   "metadata": {
    "id": "5nb0_-jWkxZ1"
   },
   "source": [
    "There are many, many reasons why one might want to take the log of something, so it is useful to have the log function defined once and for all in a standard python package. This way, any program that needs to take the log can do so, rather than having the user come up with it again and again. But what if the function we want to use does not exist in python?\n",
    "\n",
    "The capability that we are seeking is provided by defining new functions. This allows us to make our own functions that are just like the log function, and can be called in a similar way. Functions are defined by the following syntax:"
   ]
  },
  {
   "cell_type": "code",
   "execution_count": 22,
   "metadata": {
    "id": "ug6AiXYSkxZ2"
   },
   "outputs": [],
   "source": [
    "def myfunc(arg1, arg2):\n",
    "    \"\"\"\n",
    "    This is a function that does nothing in particular\n",
    "    \"\"\"\n",
    "    print(\"I am a function! Here are my arguments:\")\n",
    "    print(arg1)\n",
    "    print(arg2)\n",
    "    print(\"I am returning my first argument now!\")\n",
    "    return(arg1)"
   ]
  },
  {
   "cell_type": "markdown",
   "metadata": {
    "id": "ky8Vv6YskxZ5"
   },
   "source": [
    "This defines a very simple function. Let's walk through this declaration step by step:\n",
    "\n",
    "The first line begins with _def_, then the name of the function, and then in parentheses a list of arguments for the function, then a colon. Arguments are inputs to the function. For example, the `np.sin` function takes an angle as an argument, and calculates the sine of that angle. In this example our function has two arguments. The number of arguments is arbitrary, and can be zero, in which case the parentheses are just left empty. It is also possible to write functions where the number of arguments is variable, and need not be the same every time the function is called.\n",
    "\n",
    "After the define line, we begin the body of the function. Note that all the lines in the function body are indented. This indentation is IMPORTANT. In python, indentation is used to indicate that a particular line belongs to a particular function, loop, or other block of code. All the lines of the function are indented four spaces. If you're using entering this manually in ipython, either at the command line or in the notebook, you don't need to type in those four spaces by hand; the ipython shell will automatically enter them for you after seeing the def line. If you're using emacs or another text editor, you can just hit the tab key and the correct number of spaces will be entered for you.\n",
    "\n",
    "Within the body of the function, we can enter whatever commands we like. We can print things, for example. Or do a calculation. The arguments in that appeared in parentheses in the definition are accessible within the function, and can be manipulated however we like.\n",
    "\n",
    "At the end of the function, we have a statement that begins return. A return function causes the function to give back a value, which the calling program can print, assign to a variable, or do something else with. For example, the `np.log10` function returns the base 10 log for any positive number (or **array** of numbers!). Return values are optional: functions don't have to return anything, and can just end.\n",
    "\n",
    "OK, with that in mind, let's run the `myfunc` function above, with a string and a float number as input arguments:"
   ]
  },
  {
   "cell_type": "code",
   "execution_count": 23,
   "metadata": {
    "id": "Lcm8fRbWkxZ5"
   },
   "outputs": [
    {
     "name": "stdout",
     "output_type": "stream",
     "text": [
      "I am a function! Here are my arguments:\n",
      "star\n",
      "3.14159265\n",
      "I am returning my first argument now!\n"
     ]
    },
    {
     "data": {
      "text/plain": [
       "'star'"
      ]
     },
     "execution_count": 23,
     "metadata": {},
     "output_type": "execute_result"
    }
   ],
   "source": [
    "myfunc('star', 3.14159265)"
   ]
  },
  {
   "cell_type": "markdown",
   "metadata": {
    "id": "b_P2mPgKkxaA"
   },
   "source": [
    "Note that `myfunc` includes something called a _\"docstring\"_ (denoted with the triple quotations at the start and end). This is a description of what the function does and is visible when call that function with a question mark (as below). Many companies (e.g. Google) have extensive rules about what should be included in a docstring. For example, <a href=\"http://sphinxcontrib-napoleon.readthedocs.io/en/latest/example_google.html\">here</a> is a sample Google docstring.\n",
    "\n",
    "Generally speaking, docstrings should include a description of what the function does, some notes about the input and output, and specifics about any optional inputs (\"keywords\") and what they do. Keep your eye out for these as we proceed as we'll be asking you to include docstrings with all of the functions that you write this semester.\n",
    "\n",
    "You can view the docstring for any function in python (built-in ones, and ones you write yourself!) using the question mark. Try it below:"
   ]
  },
  {
   "cell_type": "code",
   "execution_count": 24,
   "metadata": {
    "id": "so_jJeUokxaB"
   },
   "outputs": [
    {
     "data": {
      "text/plain": [
       "\u001b[31mSignature:\u001b[39m myfunc(arg1, arg2)\n",
       "\u001b[31mDocstring:\u001b[39m This is a function that does nothing in particular\n",
       "\u001b[31mFile:\u001b[39m      /var/folders/2x/p7_3p76n1fs9m5jz938tmt9r0000gn/T/ipykernel_48206/1059591741.py\n",
       "\u001b[31mType:\u001b[39m      function"
      ]
     },
     "metadata": {},
     "output_type": "display_data"
    }
   ],
   "source": [
    "myfunc?"
   ]
  },
  {
   "cell_type": "markdown",
   "metadata": {
    "id": "PLk0i_j3kxaN"
   },
   "source": [
    "Try writing a simple function below called `test_function` that takes two numbers _a_ and _b_ as input, multiplies them togther, then divides the product by 2.0, and returns the answer."
   ]
  },
  {
   "cell_type": "code",
   "execution_count": 25,
   "metadata": {
    "id": "w2EnN5CkkxaR"
   },
   "outputs": [],
   "source": [
    "def test_function(a,b):\n",
    "    # Your docstring goes here, in triple quotations\n",
    "    \"\"\"\n",
    "    takes two numbers a and b as input, multiplies them togther, then divides the product by 2.0, and returns the answer.\n",
    "    \"\"\"\n",
    "    # Your code goes here\n",
    "    output = (a*b)/2.0\n",
    "    # Your return statement goes here\n",
    "    return output"
   ]
  },
  {
   "cell_type": "markdown",
   "metadata": {
    "id": "KILA1_TckxaV"
   },
   "source": [
    "If all went according to plan, the following should return the value 42:"
   ]
  },
  {
   "cell_type": "code",
   "execution_count": 26,
   "metadata": {
    "id": "ZXGqPdINkxaW"
   },
   "outputs": [
    {
     "name": "stdout",
     "output_type": "stream",
     "text": [
      "42.0\n"
     ]
    }
   ],
   "source": [
    "answer_to_life_the_universe_and_everything = test_function(28,3)\n",
    "\n",
    "print(answer_to_life_the_universe_and_everything)"
   ]
  },
  {
   "cell_type": "markdown",
   "metadata": {
    "id": "GLshN1H4kxaa"
   },
   "source": [
    "### Using a function to calculate absolute magnitude\n",
    "\n",
    "Recall that the distance modulus equation is as follows:\n",
    "\n",
    "$M - m = -5 log10(d) + 5$"
   ]
  },
  {
   "cell_type": "markdown",
   "metadata": {
    "id": "jTbs8JAVkxaa"
   },
   "source": [
    "In the cell below, write a function called `absmagcalc` that takes in two variables (distance in parsecs and apparent magnitude), calculates the absolute magnitude, then returns the value of the absolute magnitude."
   ]
  },
  {
   "cell_type": "code",
   "execution_count": 27,
   "metadata": {
    "id": "UUjv9oibkxab"
   },
   "outputs": [],
   "source": [
    "# Write your function here (don't forget a docstring!):\n",
    "def absmagcalc (d, m):\n",
    "    \"\"\"\n",
    "    This function takes in two variables (distance in parsecs and apparent magnitude), calculates the absolute magnitude, then returns the value of the absolute magnitude.\n",
    "    \"\"\"\n",
    "    M=m-5*np.log10(d)+5\n",
    "    return M"
   ]
  },
  {
   "cell_type": "markdown",
   "metadata": {
    "id": "J5LUtpkqkxad"
   },
   "source": [
    "Let's test your new function with the Sun, which has an apparent magnitude of -26.74. The Sun is, on average, located at a distance of 4.848e-6 pc from Earth.\n",
    "\n",
    "#### Question:\n",
    "5) What is the absolute magnitude of the Sun?"
   ]
  },
  {
   "cell_type": "code",
   "execution_count": 28,
   "metadata": {
    "id": "kKLV27Gukxae"
   },
   "outputs": [
    {
     "data": {
      "text/plain": [
       "np.float64(4.832186944208853)"
      ]
     },
     "execution_count": 28,
     "metadata": {},
     "output_type": "execute_result"
    }
   ],
   "source": [
    "# Use your new function here:\n",
    "absmagcalc(4.848e-6, -26.74)"
   ]
  },
  {
   "cell_type": "markdown",
   "metadata": {
    "id": "DjmFxYtkkxag"
   },
   "source": [
    "Now that we have a handy function to calculate absolute magnitudes from apparent ones, we can add a new column for absolute magnitude to our existing dataframe. First, we'll need the approximate distances to each of the clusters, provided here."
   ]
  },
  {
   "cell_type": "code",
   "execution_count": 29,
   "metadata": {
    "id": "x0KAbXzykxal"
   },
   "outputs": [],
   "source": [
    "# all values in parsecs\n",
    "dist_m22 = 3000.0\n",
    "dist_ngc188 = 1770.0\n",
    "dist_m67 = 850.0\n",
    "dist_m4 = 1904.5"
   ]
  },
  {
   "cell_type": "markdown",
   "metadata": {
    "id": "UqfYU3p7kxbB"
   },
   "source": [
    "Now we will add a new column for absolute magnitude, `Mv` to our existing M22 dataframe. Use your new `absmagcalc` function to calculate the absolute magnitudes from the distance and existing apparent V magnitude column, and provide the output for this new column below:"
   ]
  },
  {
   "cell_type": "code",
   "execution_count": 30,
   "metadata": {
    "id": "gJB2nSP1kxbH"
   },
   "outputs": [],
   "source": [
    "# Edit to continue this calculation using the absmagcalc function you defined\n",
    "m22['Mv'] = absmagcalc(dist_m22, m22['Vmag'])\n"
   ]
  },
  {
   "cell_type": "markdown",
   "metadata": {
    "id": "UGE_tSslkxbN"
   },
   "source": [
    "In the cell below, check your dataframe to see if it has been updated with the new column:"
   ]
  },
  {
   "cell_type": "code",
   "execution_count": 31,
   "metadata": {
    "id": "egGtTvXHkxbO"
   },
   "outputs": [
    {
     "data": {
      "text/html": [
       "<div>\n",
       "<style scoped>\n",
       "    .dataframe tbody tr th:only-of-type {\n",
       "        vertical-align: middle;\n",
       "    }\n",
       "\n",
       "    .dataframe tbody tr th {\n",
       "        vertical-align: top;\n",
       "    }\n",
       "\n",
       "    .dataframe thead th {\n",
       "        text-align: right;\n",
       "    }\n",
       "</style>\n",
       "<table border=\"1\" class=\"dataframe\">\n",
       "  <thead>\n",
       "    <tr style=\"text-align: right;\">\n",
       "      <th></th>\n",
       "      <th>_RAJ2000</th>\n",
       "      <th>_DEJ2000</th>\n",
       "      <th>MPF</th>\n",
       "      <th>Bmag</th>\n",
       "      <th>e_Bmag</th>\n",
       "      <th>Vmag</th>\n",
       "      <th>e_Vmag</th>\n",
       "      <th>Imag</th>\n",
       "      <th>e_Imag</th>\n",
       "      <th>xpos</th>\n",
       "      <th>ypos</th>\n",
       "      <th>RAdeg</th>\n",
       "      <th>DEdeg</th>\n",
       "      <th>BVcolor</th>\n",
       "      <th>VIcolor</th>\n",
       "      <th>Mv</th>\n",
       "    </tr>\n",
       "  </thead>\n",
       "  <tbody>\n",
       "    <tr>\n",
       "      <th>0</th>\n",
       "      <td>279.116359</td>\n",
       "      <td>-23.920319</td>\n",
       "      <td>1.0</td>\n",
       "      <td>12.071</td>\n",
       "      <td>0.010</td>\n",
       "      <td>10.351</td>\n",
       "      <td>0.010</td>\n",
       "      <td>8.544</td>\n",
       "      <td>0.125</td>\n",
       "      <td>806.273</td>\n",
       "      <td>1876.142</td>\n",
       "      <td>279.116359</td>\n",
       "      <td>-23.920319</td>\n",
       "      <td>1.720</td>\n",
       "      <td>1.807</td>\n",
       "      <td>-2.034606</td>\n",
       "    </tr>\n",
       "    <tr>\n",
       "      <th>1</th>\n",
       "      <td>279.043587</td>\n",
       "      <td>-23.774296</td>\n",
       "      <td>2.0</td>\n",
       "      <td>10.854</td>\n",
       "      <td>0.011</td>\n",
       "      <td>10.483</td>\n",
       "      <td>0.011</td>\n",
       "      <td>9.938</td>\n",
       "      <td>0.014</td>\n",
       "      <td>1808.769</td>\n",
       "      <td>4086.802</td>\n",
       "      <td>279.043587</td>\n",
       "      <td>-23.774296</td>\n",
       "      <td>0.371</td>\n",
       "      <td>0.545</td>\n",
       "      <td>-1.902606</td>\n",
       "    </tr>\n",
       "    <tr>\n",
       "      <th>2</th>\n",
       "      <td>279.086291</td>\n",
       "      <td>-23.924123</td>\n",
       "      <td>3.0</td>\n",
       "      <td>12.632</td>\n",
       "      <td>0.010</td>\n",
       "      <td>10.836</td>\n",
       "      <td>0.010</td>\n",
       "      <td>8.926</td>\n",
       "      <td>0.016</td>\n",
       "      <td>1221.985</td>\n",
       "      <td>1819.724</td>\n",
       "      <td>279.086291</td>\n",
       "      <td>-23.924123</td>\n",
       "      <td>1.796</td>\n",
       "      <td>1.910</td>\n",
       "      <td>-1.549606</td>\n",
       "    </tr>\n",
       "    <tr>\n",
       "      <th>3</th>\n",
       "      <td>279.044001</td>\n",
       "      <td>-23.916703</td>\n",
       "      <td>4.0</td>\n",
       "      <td>12.708</td>\n",
       "      <td>0.010</td>\n",
       "      <td>10.885</td>\n",
       "      <td>0.011</td>\n",
       "      <td>8.937</td>\n",
       "      <td>0.019</td>\n",
       "      <td>1806.331</td>\n",
       "      <td>1933.347</td>\n",
       "      <td>279.044001</td>\n",
       "      <td>-23.916703</td>\n",
       "      <td>1.823</td>\n",
       "      <td>1.948</td>\n",
       "      <td>-1.500606</td>\n",
       "    </tr>\n",
       "    <tr>\n",
       "      <th>4</th>\n",
       "      <td>279.171046</td>\n",
       "      <td>-23.971967</td>\n",
       "      <td>5.0</td>\n",
       "      <td>12.794</td>\n",
       "      <td>0.010</td>\n",
       "      <td>10.942</td>\n",
       "      <td>0.010</td>\n",
       "      <td>8.980</td>\n",
       "      <td>0.016</td>\n",
       "      <td>52.285</td>\n",
       "      <td>1092.889</td>\n",
       "      <td>279.171046</td>\n",
       "      <td>-23.971967</td>\n",
       "      <td>1.852</td>\n",
       "      <td>1.962</td>\n",
       "      <td>-1.443606</td>\n",
       "    </tr>\n",
       "  </tbody>\n",
       "</table>\n",
       "</div>"
      ],
      "text/plain": [
       "     _RAJ2000   _DEJ2000  MPF    Bmag  e_Bmag    Vmag  e_Vmag   Imag  e_Imag  \\\n",
       "0  279.116359 -23.920319  1.0  12.071   0.010  10.351   0.010  8.544   0.125   \n",
       "1  279.043587 -23.774296  2.0  10.854   0.011  10.483   0.011  9.938   0.014   \n",
       "2  279.086291 -23.924123  3.0  12.632   0.010  10.836   0.010  8.926   0.016   \n",
       "3  279.044001 -23.916703  4.0  12.708   0.010  10.885   0.011  8.937   0.019   \n",
       "4  279.171046 -23.971967  5.0  12.794   0.010  10.942   0.010  8.980   0.016   \n",
       "\n",
       "       xpos      ypos       RAdeg      DEdeg  BVcolor  VIcolor        Mv  \n",
       "0   806.273  1876.142  279.116359 -23.920319    1.720    1.807 -2.034606  \n",
       "1  1808.769  4086.802  279.043587 -23.774296    0.371    0.545 -1.902606  \n",
       "2  1221.985  1819.724  279.086291 -23.924123    1.796    1.910 -1.549606  \n",
       "3  1806.331  1933.347  279.044001 -23.916703    1.823    1.948 -1.500606  \n",
       "4    52.285  1092.889  279.171046 -23.971967    1.852    1.962 -1.443606  "
      ]
     },
     "execution_count": 31,
     "metadata": {},
     "output_type": "execute_result"
    }
   ],
   "source": [
    "# Check the dataframe again -- do you have all the columns you need?\n",
    "m22.head()"
   ]
  },
  {
   "cell_type": "markdown",
   "metadata": {
    "id": "IhcOLvr3kxbS"
   },
   "source": [
    "We are now ready to plot!\n",
    "\n",
    "### Plotting from a pandas dataframe\n",
    "\n",
    "Using the _matplotlib.pyplot_ skills we learned last week, we can now plot our first color magnitude diagram. One convenient aspect of pandas is that we can plot columns taken directly from the dataframe itself. For example, for M22:\n",
    "* the X-axis is the series: `m22['BVcolor']`\n",
    "* the Y-axis is the series: `m22['Mv']`\n",
    "\n",
    "In the following exercises, you will plot a color-magnitude diagram for M22, and then load and manipulate new pandas dataframes for two open clusters and a globular cluster."
   ]
  },
  {
   "cell_type": "markdown",
   "metadata": {
    "id": "8F7rQM6zkxbU"
   },
   "source": [
    "# Exercise 1\n",
    "\n",
    "Plot the V vs. B-V color-magnitude diagram for M22. Scale the plot as necessary to show all of the data clearly (there are a lot of data points, so you may want to make the symbols small using _markersize = 3_ or an even smaller size). Don't forget to add axes labels+units and a title.\n",
    "\n",
    "Hint #1: When scaling the axes, think about how this plot is analogous to the H-R diagrams from last week. Which way should the axes go?\n",
    "\n",
    "Hint #2: Using a subscript for the Y-axis, you can use M$_{V}$ to indicate absolute magnitude (double-click the cell to see).\n",
    "\n",
    "(For plotting methods, you may find it useful to refer back to the Jupyter Refresher and Lab 1.)"
   ]
  },
  {
   "cell_type": "code",
   "execution_count": 45,
   "metadata": {
    "id": "IgGyax5VkxbU"
   },
   "outputs": [
    {
     "data": {
      "text/plain": [
       "<function matplotlib.pyplot.show(close=None, block=None)>"
      ]
     },
     "execution_count": 45,
     "metadata": {},
     "output_type": "execute_result"
    }
   ],
   "source": [
    "# Plot your data directly from the m22 dataframe below:\n",
    "plt.scatter(m22['BVcolor'] , m22['Mv'] , s = 2)\n",
    "plt.ylim (11 , -2)\n",
    "plt.xlabel (\"B-V color mag\")\n",
    "plt.ylabel (\"Mv abs mag\")\n",
    "plt.title (\"Graph of color mag vs absolute mag\")\n"
   ]
  },
  {
   "cell_type": "markdown",
   "metadata": {
    "id": "qvEMEzL1kxbb"
   },
   "source": [
    "# Exercise 2 (Additional Clusters)\n",
    "\n",
    "Now you will read in the data for the other clusters you downloaded from VizieR at the beginning of the lab and plot these data. For each cluster:\n",
    "1. Comment the datafile as needed\n",
    "2. Load the datafile using pandas (pd.read_csv)\n",
    "3. Calculate the B-V color\n",
    "4. Use your absolute magnitude function to calculate M$_{V}$ from the V mag and the distance to each cluster\n",
    "5. Make plots! (multipanel and overlay)"
   ]
  },
  {
   "cell_type": "code",
   "execution_count": 33,
   "metadata": {
    "id": "8qW5eYY8kxbb"
   },
   "outputs": [],
   "source": [
    "# Load datafiles into new pandas dataframes. Be sure to check the datatypes -- if necessary, use pd.to_numeric.\n",
    "m4 = pd.read_csv(\"M4.tsv\" , comment= '#' , delimiter= ';')\n",
    "m67 = pd.read_csv(\"m67.tsv\" , comment= '#' , delimiter= ';')\n",
    "ngc188 = pd.read_csv(\"NGC188.tsv\" , comment= '#' , delimiter= ';')"
   ]
  },
  {
   "cell_type": "code",
   "execution_count": 34,
   "metadata": {},
   "outputs": [
    {
     "data": {
      "text/plain": [
       "Index(['_RAJ2000', '_DEJ2000', 'n_SMV', 'SMV', 'Umag', 'Bmag', 'e_Bmag',\n",
       "       'Vmag', 'e_Vmag', 'Rmag', 'e_Rmag', 'Imag', 'Memb', 'RAJ2000',\n",
       "       'DEJ2000'],\n",
       "      dtype='object')"
      ]
     },
     "execution_count": 34,
     "metadata": {},
     "output_type": "execute_result"
    }
   ],
   "source": [
    "ngc188.columns"
   ]
  },
  {
   "cell_type": "code",
   "execution_count": 35,
   "metadata": {},
   "outputs": [],
   "source": [
    "m4['B-V'] = pd.to_numeric(m4['B-V'], errors='coerce')\n",
    "m4['Vmag'] = pd.to_numeric(m4['Vmag'], errors='coerce')"
   ]
  },
  {
   "cell_type": "code",
   "execution_count": 36,
   "metadata": {},
   "outputs": [],
   "source": [
    "m67['Bmag'] = pd.to_numeric(m67['Bmag'], errors='coerce')\n",
    "m67['Vmag'] = pd.to_numeric(m67['Vmag'], errors='coerce')"
   ]
  },
  {
   "cell_type": "code",
   "execution_count": 37,
   "metadata": {},
   "outputs": [],
   "source": [
    "ngc188['Bmag'] = pd.to_numeric(ngc188['Bmag'], errors='coerce')\n",
    "ngc188['Vmag'] = pd.to_numeric(ngc188['Vmag'], errors='coerce')"
   ]
  },
  {
   "cell_type": "code",
   "execution_count": 39,
   "metadata": {
    "id": "JJYdpNoDkxbe"
   },
   "outputs": [],
   "source": [
    "# Calculate B-V colors for NGC 188 and M67.\n",
    "m67['BVcolor'] = m67['Bmag'] - m67['Vmag']\n",
    "ngc188['BVcolor'] = ngc188['Bmag'] - ngc188['Vmag']\n",
    "# Freebie! For M4, the B-V values are already provided in the table -- no need to calculate this one.\n",
    "\n"
   ]
  },
  {
   "cell_type": "code",
   "execution_count": 42,
   "metadata": {
    "id": "R318CSsRkxbh"
   },
   "outputs": [
    {
     "data": {
      "text/html": [
       "<div>\n",
       "<style scoped>\n",
       "    .dataframe tbody tr th:only-of-type {\n",
       "        vertical-align: middle;\n",
       "    }\n",
       "\n",
       "    .dataframe tbody tr th {\n",
       "        vertical-align: top;\n",
       "    }\n",
       "\n",
       "    .dataframe thead th {\n",
       "        text-align: right;\n",
       "    }\n",
       "</style>\n",
       "<table border=\"1\" class=\"dataframe\">\n",
       "  <thead>\n",
       "    <tr style=\"text-align: right;\">\n",
       "      <th></th>\n",
       "      <th>_RAJ2000</th>\n",
       "      <th>_DEJ2000</th>\n",
       "      <th>n_SMV</th>\n",
       "      <th>SMV</th>\n",
       "      <th>Umag</th>\n",
       "      <th>Bmag</th>\n",
       "      <th>e_Bmag</th>\n",
       "      <th>Vmag</th>\n",
       "      <th>e_Vmag</th>\n",
       "      <th>Rmag</th>\n",
       "      <th>e_Rmag</th>\n",
       "      <th>Imag</th>\n",
       "      <th>Memb</th>\n",
       "      <th>RAJ2000</th>\n",
       "      <th>DEJ2000</th>\n",
       "      <th>BVcolor</th>\n",
       "      <th>Mv</th>\n",
       "    </tr>\n",
       "  </thead>\n",
       "  <tbody>\n",
       "    <tr>\n",
       "      <th>0</th>\n",
       "      <td>5.307167</td>\n",
       "      <td>85.276833</td>\n",
       "      <td>x</td>\n",
       "      <td>1</td>\n",
       "      <td></td>\n",
       "      <td>20.493</td>\n",
       "      <td>0.0247</td>\n",
       "      <td>19.356</td>\n",
       "      <td>0.0164</td>\n",
       "      <td></td>\n",
       "      <td></td>\n",
       "      <td></td>\n",
       "      <td></td>\n",
       "      <td>00 21 13.72</td>\n",
       "      <td>+85 16 36.6</td>\n",
       "      <td>1.137</td>\n",
       "      <td>8.116134</td>\n",
       "    </tr>\n",
       "    <tr>\n",
       "      <th>1</th>\n",
       "      <td>5.293083</td>\n",
       "      <td>85.311250</td>\n",
       "      <td>x</td>\n",
       "      <td>2</td>\n",
       "      <td></td>\n",
       "      <td>17.788</td>\n",
       "      <td>0.0173</td>\n",
       "      <td>16.986</td>\n",
       "      <td>0.0158</td>\n",
       "      <td></td>\n",
       "      <td></td>\n",
       "      <td></td>\n",
       "      <td>4</td>\n",
       "      <td>00 21 10.34</td>\n",
       "      <td>+85 18 40.5</td>\n",
       "      <td>0.802</td>\n",
       "      <td>5.746134</td>\n",
       "    </tr>\n",
       "    <tr>\n",
       "      <th>2</th>\n",
       "      <td>5.264500</td>\n",
       "      <td>85.341444</td>\n",
       "      <td>x</td>\n",
       "      <td>3</td>\n",
       "      <td></td>\n",
       "      <td>18.856</td>\n",
       "      <td>0.0155</td>\n",
       "      <td>18.183</td>\n",
       "      <td>0.0163</td>\n",
       "      <td></td>\n",
       "      <td></td>\n",
       "      <td></td>\n",
       "      <td></td>\n",
       "      <td>00 21 03.48</td>\n",
       "      <td>+85 20 29.2</td>\n",
       "      <td>0.673</td>\n",
       "      <td>6.943134</td>\n",
       "    </tr>\n",
       "    <tr>\n",
       "      <th>3</th>\n",
       "      <td>5.467292</td>\n",
       "      <td>85.208194</td>\n",
       "      <td>x</td>\n",
       "      <td>4</td>\n",
       "      <td></td>\n",
       "      <td>15.165</td>\n",
       "      <td>0.0163</td>\n",
       "      <td>14.474</td>\n",
       "      <td>0.0177</td>\n",
       "      <td></td>\n",
       "      <td></td>\n",
       "      <td></td>\n",
       "      <td>6</td>\n",
       "      <td>00 21 52.15</td>\n",
       "      <td>+85 12 29.5</td>\n",
       "      <td>0.691</td>\n",
       "      <td>3.234134</td>\n",
       "    </tr>\n",
       "    <tr>\n",
       "      <th>4</th>\n",
       "      <td>5.276667</td>\n",
       "      <td>85.348444</td>\n",
       "      <td>x</td>\n",
       "      <td>5</td>\n",
       "      <td></td>\n",
       "      <td>16.312</td>\n",
       "      <td>0.0154</td>\n",
       "      <td>15.433</td>\n",
       "      <td>0.0161</td>\n",
       "      <td></td>\n",
       "      <td></td>\n",
       "      <td></td>\n",
       "      <td>0</td>\n",
       "      <td>00 21 06.40</td>\n",
       "      <td>+85 20 54.4</td>\n",
       "      <td>0.879</td>\n",
       "      <td>4.193134</td>\n",
       "    </tr>\n",
       "  </tbody>\n",
       "</table>\n",
       "</div>"
      ],
      "text/plain": [
       "   _RAJ2000   _DEJ2000 n_SMV  SMV    Umag    Bmag  e_Bmag    Vmag  e_Vmag  \\\n",
       "0  5.307167  85.276833     x    1          20.493  0.0247  19.356  0.0164   \n",
       "1  5.293083  85.311250     x    2          17.788  0.0173  16.986  0.0158   \n",
       "2  5.264500  85.341444     x    3          18.856  0.0155  18.183  0.0163   \n",
       "3  5.467292  85.208194     x    4          15.165  0.0163  14.474  0.0177   \n",
       "4  5.276667  85.348444     x    5          16.312  0.0154  15.433  0.0161   \n",
       "\n",
       "     Rmag  e_Rmag    Imag Memb      RAJ2000      DEJ2000  BVcolor        Mv  \n",
       "0                               00 21 13.72  +85 16 36.6    1.137  8.116134  \n",
       "1                            4  00 21 10.34  +85 18 40.5    0.802  5.746134  \n",
       "2                               00 21 03.48  +85 20 29.2    0.673  6.943134  \n",
       "3                            6  00 21 52.15  +85 12 29.5    0.691  3.234134  \n",
       "4                            0  00 21 06.40  +85 20 54.4    0.879  4.193134  "
      ]
     },
     "execution_count": 42,
     "metadata": {},
     "output_type": "execute_result"
    }
   ],
   "source": [
    "# Calculate absolute V magnitudes (recall that the distances to each cluster are given earlier in the lab)\n",
    "m67['Mv'] = absmagcalc(dist_m67, m67['Vmag'])\n",
    "ngc188['Mv'] = absmagcalc(dist_ngc188, ngc188['Vmag'])\n",
    "m4['Mv'] = absmagcalc(dist_m4, m22['Vmag'])\n",
    "\n"
   ]
  },
  {
   "cell_type": "code",
   "execution_count": null,
   "metadata": {
    "id": "TS_i-Yrakxbn"
   },
   "outputs": [],
   "source": [
    "# Make a multipanel plot showing each of the four clusters.\n",
    "\n",
    "# In each of the panel titles, put the name of the cluster and its type (e.g., \"M22 - globular\"):\n",
    "\n",
    "fig,((ax1,ax2),(ax3,ax4)) = plt.subplots(2, 2, figsize=(10,10))\n",
    "fig.suptitle('Globular and Open Cluster Comparison')\n",
    "# Continue the rest of the plotting below\n"
   ]
  },
  {
   "cell_type": "code",
   "execution_count": null,
   "metadata": {
    "id": "18apW4oUkxbw"
   },
   "outputs": [],
   "source": [
    "# Make an overlay plot showing all four clusters on the same axes.\n",
    "\n",
    "# Hint: You may want to try changing the order in which you plot the datasets to make sure all datasets are visible.\n",
    "\n"
   ]
  },
  {
   "cell_type": "markdown",
   "metadata": {
    "id": "ViLvrklhkxb4"
   },
   "source": [
    "# Exercise 3 (Comprehension Questions)\n",
    "\n",
    "<p>1) How do the color-magnitude diagrams (CMDs) you have plotted compare to the H-R diagrams from last week? What features are similar? What features are different?</p>\n",
    "- (your answer here)\n",
    "\n",
    "\n",
    "<p>2) Why do you think there is so much scatter in the observational data? Do you think this is an astrophysical effect or an instrumental one? What are some potential sources of error? </p>\n",
    "- It could be both an astrophysical effect and instrumental one, although it is most likley instrumental. It could be an astrophysical effect such as redshift, but since these clusters are in our galaxy redshift wouldn't account for this much scatter. It is most likley an instrumental error such as light from other objects entering the telescope, or something on Earth affecting the gathering of data like the atmosphere, or the position of the telescope could be impacting the data collected.\n",
    "\n",
    "\n",
    "<p>3) Which clusters do you think are older or younger? Rank NGC 188, M4, M22, and M67 by relative age. How can you tell?</p>\n",
    "- (your answer here)\n",
    "\n",
    "\n",
    "<p>4) Why might the main sequences be offset for each of the clusters? (Hint: How would uncertainty in a measured/estimated value shift values up/down on the Y-axis?)</p>\n",
    "- The main sequence could be offset because of the types of stars in the clusters. The older star clusters would not have many blue stars, and the stars in that cluster would be further along in their lifecycle compared to a younger cluster, and as we saw in class, as stars age the main sequence line shifts on the HR diagram.\n",
    "\n",
    "\n",
    "<p>5) Bonus question, if there's time: Earlier, we also calculated a V-I color column for M22. Plot the V vs. V-I CMD for M22. Why do you think the plot looks different from the V vs. B-V one?</p>\n",
    "- (your answer here)"
   ]
  },
  {
   "cell_type": "code",
   "execution_count": null,
   "metadata": {
    "id": "v_t9pAYbkxb6"
   },
   "outputs": [],
   "source": [
    "# Bonus Plot\n",
    "\n"
   ]
  },
  {
   "cell_type": "markdown",
   "metadata": {
    "id": "tmAWqMaZNM8-"
   },
   "source": [
    "## Submission Instructions\n",
    "\n",
    "Before submitting any Jupyter notebook for grading, please follow the following steps\n",
    "\n",
    "**1) Hit the \"Restart the kernel run the whole notebook\" button**\n",
    "\n",
    "Make sure the entire notebook runs from start to finish. If necessary, comment out any un-executable cells from the instructions portion of the lab so the whole notebook will execute in one go.\n",
    "\n",
    "**2) Save as PDF (easiest method is with File > Print... > Save as PDF).**\n",
    "\n",
    "**3) Make sure the names of all group members are in a markdown cell at the top of the file and submit the notebook through the Gradescope link for this lab**"
   ]
  },
  {
   "cell_type": "markdown",
   "metadata": {
    "id": "fVsW3ntIqoBR"
   },
   "source": []
  }
 ],
 "metadata": {
  "anaconda-cloud": {},
  "colab": {
   "provenance": []
  },
  "kernelspec": {
   "display_name": "Python 3 (ipykernel)",
   "language": "python",
   "name": "python3"
  },
  "language_info": {
   "codemirror_mode": {
    "name": "ipython",
    "version": 3
   },
   "file_extension": ".py",
   "mimetype": "text/x-python",
   "name": "python",
   "nbconvert_exporter": "python",
   "pygments_lexer": "ipython3",
   "version": "3.13.5"
  }
 },
 "nbformat": 4,
 "nbformat_minor": 4
}
